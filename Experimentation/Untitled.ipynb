{
 "cells": [
  {
   "cell_type": "markdown",
   "id": "30ba3c5f",
   "metadata": {},
   "source": [
    "# Imports"
   ]
  },
  {
   "cell_type": "code",
   "execution_count": 164,
   "id": "c0bae97c",
   "metadata": {},
   "outputs": [],
   "source": [
    "import pandas as pd\n",
    "import numpy as np\n",
    "from sklearn.model_selection import train_test_split, cross_val_score\n",
    "from sklearn.preprocessing import LabelEncoder, OneHotEncoder, TargetEncoder, StandardScaler\n",
    "from xgboost import XGBRegressor, XGBClassifier\n",
    "from sklearn.svm import SVC\n",
    "from sklearn.linear_model import LogisticRegression\n",
    "from sklearn.metrics import mean_absolute_error as mae, accuracy_score, r2_score\n",
    "import matplotlib.pyplot as plt\n",
    "import seaborn as sns\n",
    "from preprocess import preprocess, process\n",
    "from sklearn.neighbors import KNeighborsClassifier, KNeighborsRegressor"
   ]
  },
  {
   "cell_type": "markdown",
   "id": "e4272fcd",
   "metadata": {},
   "source": [
    "# Data "
   ]
  },
  {
   "cell_type": "code",
   "execution_count": 165,
   "id": "654bf207",
   "metadata": {},
   "outputs": [],
   "source": [
    "data = pd.read_csv('jobfair_train.csv')"
   ]
  },
  {
   "cell_type": "code",
   "execution_count": 166,
   "id": "770fa1f8",
   "metadata": {},
   "outputs": [
    {
     "data": {
      "text/html": [
       "<div>\n",
       "<style scoped>\n",
       "    .dataframe tbody tr th:only-of-type {\n",
       "        vertical-align: middle;\n",
       "    }\n",
       "\n",
       "    .dataframe tbody tr th {\n",
       "        vertical-align: top;\n",
       "    }\n",
       "\n",
       "    .dataframe thead th {\n",
       "        text-align: right;\n",
       "    }\n",
       "</style>\n",
       "<table border=\"1\" class=\"dataframe\">\n",
       "  <thead>\n",
       "    <tr style=\"text-align: right;\">\n",
       "      <th></th>\n",
       "      <th>season</th>\n",
       "      <th>club_id</th>\n",
       "      <th>league_id</th>\n",
       "      <th>dynamic_payment_segment</th>\n",
       "      <th>cohort_season</th>\n",
       "      <th>avg_age_top_11_players</th>\n",
       "      <th>avg_stars_top_11_players</th>\n",
       "      <th>avg_stars_top_14_players</th>\n",
       "      <th>avg_training_factor_top_11_players</th>\n",
       "      <th>days_active_last_28_days</th>\n",
       "      <th>...</th>\n",
       "      <th>registration_country</th>\n",
       "      <th>registration_platform_specific</th>\n",
       "      <th>league_match_won_count_last_28_days</th>\n",
       "      <th>training_count_last_28_days</th>\n",
       "      <th>global_competition_level</th>\n",
       "      <th>tokens_spent_last_28_days</th>\n",
       "      <th>tokens_stash</th>\n",
       "      <th>rests_stash</th>\n",
       "      <th>morale_boosters_stash</th>\n",
       "      <th>league_rank</th>\n",
       "    </tr>\n",
       "  </thead>\n",
       "  <tbody>\n",
       "    <tr>\n",
       "      <th>0</th>\n",
       "      <td>173</td>\n",
       "      <td>6042825</td>\n",
       "      <td>2912348</td>\n",
       "      <td>2) Minnow</td>\n",
       "      <td>134</td>\n",
       "      <td>25</td>\n",
       "      <td>5.255151</td>\n",
       "      <td>4.483009</td>\n",
       "      <td>1.778801</td>\n",
       "      <td>25</td>\n",
       "      <td>...</td>\n",
       "      <td>Portugal</td>\n",
       "      <td>Flash FB Canvas</td>\n",
       "      <td>24</td>\n",
       "      <td>435</td>\n",
       "      <td>11.0</td>\n",
       "      <td>598</td>\n",
       "      <td>245</td>\n",
       "      <td>186</td>\n",
       "      <td>818</td>\n",
       "      <td>2</td>\n",
       "    </tr>\n",
       "    <tr>\n",
       "      <th>1</th>\n",
       "      <td>173</td>\n",
       "      <td>9620967</td>\n",
       "      <td>2912140</td>\n",
       "      <td>2) Minnow</td>\n",
       "      <td>28</td>\n",
       "      <td>23</td>\n",
       "      <td>4.962521</td>\n",
       "      <td>4.785648</td>\n",
       "      <td>-0.002687</td>\n",
       "      <td>28</td>\n",
       "      <td>...</td>\n",
       "      <td>Turkey</td>\n",
       "      <td>Android Phone</td>\n",
       "      <td>19</td>\n",
       "      <td>58</td>\n",
       "      <td>7.0</td>\n",
       "      <td>269</td>\n",
       "      <td>0</td>\n",
       "      <td>35</td>\n",
       "      <td>24</td>\n",
       "      <td>2</td>\n",
       "    </tr>\n",
       "    <tr>\n",
       "      <th>2</th>\n",
       "      <td>173</td>\n",
       "      <td>6045474</td>\n",
       "      <td>2912933</td>\n",
       "      <td>4) Whale</td>\n",
       "      <td>136</td>\n",
       "      <td>23</td>\n",
       "      <td>11.105782</td>\n",
       "      <td>10.511133</td>\n",
       "      <td>0.628794</td>\n",
       "      <td>28</td>\n",
       "      <td>...</td>\n",
       "      <td>Belgium</td>\n",
       "      <td>Flash FB Canvas</td>\n",
       "      <td>26</td>\n",
       "      <td>116</td>\n",
       "      <td>8.0</td>\n",
       "      <td>23180</td>\n",
       "      <td>369</td>\n",
       "      <td>444</td>\n",
       "      <td>4933</td>\n",
       "      <td>1</td>\n",
       "    </tr>\n",
       "    <tr>\n",
       "      <th>3</th>\n",
       "      <td>173</td>\n",
       "      <td>14187773</td>\n",
       "      <td>2910371</td>\n",
       "      <td>0) NonPayer</td>\n",
       "      <td>2</td>\n",
       "      <td>21</td>\n",
       "      <td>4.164848</td>\n",
       "      <td>4.023486</td>\n",
       "      <td>0.551904</td>\n",
       "      <td>12</td>\n",
       "      <td>...</td>\n",
       "      <td>Malaysia</td>\n",
       "      <td>Android Phone</td>\n",
       "      <td>11</td>\n",
       "      <td>22</td>\n",
       "      <td>2.0</td>\n",
       "      <td>41</td>\n",
       "      <td>43</td>\n",
       "      <td>213</td>\n",
       "      <td>126</td>\n",
       "      <td>6</td>\n",
       "    </tr>\n",
       "    <tr>\n",
       "      <th>4</th>\n",
       "      <td>173</td>\n",
       "      <td>13694853</td>\n",
       "      <td>2907632</td>\n",
       "      <td>0) NonPayer</td>\n",
       "      <td>5</td>\n",
       "      <td>22</td>\n",
       "      <td>3.031939</td>\n",
       "      <td>2.926029</td>\n",
       "      <td>0.690544</td>\n",
       "      <td>0</td>\n",
       "      <td>...</td>\n",
       "      <td>Italy</td>\n",
       "      <td>iOS Phone</td>\n",
       "      <td>9</td>\n",
       "      <td>0</td>\n",
       "      <td>4.0</td>\n",
       "      <td>0</td>\n",
       "      <td>16</td>\n",
       "      <td>100</td>\n",
       "      <td>147</td>\n",
       "      <td>10</td>\n",
       "    </tr>\n",
       "    <tr>\n",
       "      <th>...</th>\n",
       "      <td>...</td>\n",
       "      <td>...</td>\n",
       "      <td>...</td>\n",
       "      <td>...</td>\n",
       "      <td>...</td>\n",
       "      <td>...</td>\n",
       "      <td>...</td>\n",
       "      <td>...</td>\n",
       "      <td>...</td>\n",
       "      <td>...</td>\n",
       "      <td>...</td>\n",
       "      <td>...</td>\n",
       "      <td>...</td>\n",
       "      <td>...</td>\n",
       "      <td>...</td>\n",
       "      <td>...</td>\n",
       "      <td>...</td>\n",
       "      <td>...</td>\n",
       "      <td>...</td>\n",
       "      <td>...</td>\n",
       "      <td>...</td>\n",
       "    </tr>\n",
       "    <tr>\n",
       "      <th>55309</th>\n",
       "      <td>173</td>\n",
       "      <td>14278145</td>\n",
       "      <td>2906514</td>\n",
       "      <td>0) NonPayer</td>\n",
       "      <td>2</td>\n",
       "      <td>25</td>\n",
       "      <td>4.160909</td>\n",
       "      <td>3.948086</td>\n",
       "      <td>0.503241</td>\n",
       "      <td>11</td>\n",
       "      <td>...</td>\n",
       "      <td>Switzerland</td>\n",
       "      <td>iOS Phone</td>\n",
       "      <td>13</td>\n",
       "      <td>25</td>\n",
       "      <td>NaN</td>\n",
       "      <td>42</td>\n",
       "      <td>10</td>\n",
       "      <td>25</td>\n",
       "      <td>37</td>\n",
       "      <td>1</td>\n",
       "    </tr>\n",
       "    <tr>\n",
       "      <th>55310</th>\n",
       "      <td>173</td>\n",
       "      <td>14309556</td>\n",
       "      <td>2906913</td>\n",
       "      <td>2) Minnow</td>\n",
       "      <td>2</td>\n",
       "      <td>21</td>\n",
       "      <td>4.244145</td>\n",
       "      <td>3.762286</td>\n",
       "      <td>0.664514</td>\n",
       "      <td>28</td>\n",
       "      <td>...</td>\n",
       "      <td>France</td>\n",
       "      <td>iOS Phone</td>\n",
       "      <td>25</td>\n",
       "      <td>167</td>\n",
       "      <td>NaN</td>\n",
       "      <td>214</td>\n",
       "      <td>158</td>\n",
       "      <td>358</td>\n",
       "      <td>256</td>\n",
       "      <td>1</td>\n",
       "    </tr>\n",
       "    <tr>\n",
       "      <th>55311</th>\n",
       "      <td>173</td>\n",
       "      <td>14455654</td>\n",
       "      <td>2905985</td>\n",
       "      <td>0) NonPayer</td>\n",
       "      <td>1</td>\n",
       "      <td>21</td>\n",
       "      <td>4.000158</td>\n",
       "      <td>3.753276</td>\n",
       "      <td>0.507620</td>\n",
       "      <td>6</td>\n",
       "      <td>...</td>\n",
       "      <td>France</td>\n",
       "      <td>iOS Tablet</td>\n",
       "      <td>14</td>\n",
       "      <td>17</td>\n",
       "      <td>NaN</td>\n",
       "      <td>73</td>\n",
       "      <td>11</td>\n",
       "      <td>70</td>\n",
       "      <td>57</td>\n",
       "      <td>11</td>\n",
       "    </tr>\n",
       "    <tr>\n",
       "      <th>55312</th>\n",
       "      <td>173</td>\n",
       "      <td>13623733</td>\n",
       "      <td>2910437</td>\n",
       "      <td>0) NonPayer</td>\n",
       "      <td>5</td>\n",
       "      <td>24</td>\n",
       "      <td>4.582158</td>\n",
       "      <td>4.461391</td>\n",
       "      <td>0.664767</td>\n",
       "      <td>28</td>\n",
       "      <td>...</td>\n",
       "      <td>Morocco</td>\n",
       "      <td>Android Phone</td>\n",
       "      <td>22</td>\n",
       "      <td>80</td>\n",
       "      <td>4.0</td>\n",
       "      <td>90</td>\n",
       "      <td>65</td>\n",
       "      <td>109</td>\n",
       "      <td>150</td>\n",
       "      <td>5</td>\n",
       "    </tr>\n",
       "    <tr>\n",
       "      <th>55313</th>\n",
       "      <td>173</td>\n",
       "      <td>11719971</td>\n",
       "      <td>2910381</td>\n",
       "      <td>0) NonPayer</td>\n",
       "      <td>16</td>\n",
       "      <td>23</td>\n",
       "      <td>5.176582</td>\n",
       "      <td>4.762305</td>\n",
       "      <td>0.640298</td>\n",
       "      <td>1</td>\n",
       "      <td>...</td>\n",
       "      <td>Greece</td>\n",
       "      <td>Android Phone</td>\n",
       "      <td>6</td>\n",
       "      <td>2</td>\n",
       "      <td>6.0</td>\n",
       "      <td>50</td>\n",
       "      <td>24</td>\n",
       "      <td>17</td>\n",
       "      <td>354</td>\n",
       "      <td>9</td>\n",
       "    </tr>\n",
       "  </tbody>\n",
       "</table>\n",
       "<p>55314 rows × 23 columns</p>\n",
       "</div>"
      ],
      "text/plain": [
       "       season   club_id  league_id dynamic_payment_segment  cohort_season  \\\n",
       "0         173   6042825    2912348               2) Minnow            134   \n",
       "1         173   9620967    2912140               2) Minnow             28   \n",
       "2         173   6045474    2912933                4) Whale            136   \n",
       "3         173  14187773    2910371             0) NonPayer              2   \n",
       "4         173  13694853    2907632             0) NonPayer              5   \n",
       "...       ...       ...        ...                     ...            ...   \n",
       "55309     173  14278145    2906514             0) NonPayer              2   \n",
       "55310     173  14309556    2906913               2) Minnow              2   \n",
       "55311     173  14455654    2905985             0) NonPayer              1   \n",
       "55312     173  13623733    2910437             0) NonPayer              5   \n",
       "55313     173  11719971    2910381             0) NonPayer             16   \n",
       "\n",
       "       avg_age_top_11_players  avg_stars_top_11_players  \\\n",
       "0                          25                  5.255151   \n",
       "1                          23                  4.962521   \n",
       "2                          23                 11.105782   \n",
       "3                          21                  4.164848   \n",
       "4                          22                  3.031939   \n",
       "...                       ...                       ...   \n",
       "55309                      25                  4.160909   \n",
       "55310                      21                  4.244145   \n",
       "55311                      21                  4.000158   \n",
       "55312                      24                  4.582158   \n",
       "55313                      23                  5.176582   \n",
       "\n",
       "       avg_stars_top_14_players  avg_training_factor_top_11_players  \\\n",
       "0                      4.483009                            1.778801   \n",
       "1                      4.785648                           -0.002687   \n",
       "2                     10.511133                            0.628794   \n",
       "3                      4.023486                            0.551904   \n",
       "4                      2.926029                            0.690544   \n",
       "...                         ...                                 ...   \n",
       "55309                  3.948086                            0.503241   \n",
       "55310                  3.762286                            0.664514   \n",
       "55311                  3.753276                            0.507620   \n",
       "55312                  4.461391                            0.664767   \n",
       "55313                  4.762305                            0.640298   \n",
       "\n",
       "       days_active_last_28_days  ...  registration_country  \\\n",
       "0                            25  ...              Portugal   \n",
       "1                            28  ...                Turkey   \n",
       "2                            28  ...               Belgium   \n",
       "3                            12  ...              Malaysia   \n",
       "4                             0  ...                 Italy   \n",
       "...                         ...  ...                   ...   \n",
       "55309                        11  ...           Switzerland   \n",
       "55310                        28  ...                France   \n",
       "55311                         6  ...                France   \n",
       "55312                        28  ...               Morocco   \n",
       "55313                         1  ...                Greece   \n",
       "\n",
       "       registration_platform_specific  league_match_won_count_last_28_days  \\\n",
       "0                     Flash FB Canvas                                   24   \n",
       "1                       Android Phone                                   19   \n",
       "2                     Flash FB Canvas                                   26   \n",
       "3                       Android Phone                                   11   \n",
       "4                           iOS Phone                                    9   \n",
       "...                               ...                                  ...   \n",
       "55309                       iOS Phone                                   13   \n",
       "55310                       iOS Phone                                   25   \n",
       "55311                      iOS Tablet                                   14   \n",
       "55312                   Android Phone                                   22   \n",
       "55313                   Android Phone                                    6   \n",
       "\n",
       "      training_count_last_28_days global_competition_level  \\\n",
       "0                             435                     11.0   \n",
       "1                              58                      7.0   \n",
       "2                             116                      8.0   \n",
       "3                              22                      2.0   \n",
       "4                               0                      4.0   \n",
       "...                           ...                      ...   \n",
       "55309                          25                      NaN   \n",
       "55310                         167                      NaN   \n",
       "55311                          17                      NaN   \n",
       "55312                          80                      4.0   \n",
       "55313                           2                      6.0   \n",
       "\n",
       "       tokens_spent_last_28_days  tokens_stash  rests_stash  \\\n",
       "0                            598           245          186   \n",
       "1                            269             0           35   \n",
       "2                          23180           369          444   \n",
       "3                             41            43          213   \n",
       "4                              0            16          100   \n",
       "...                          ...           ...          ...   \n",
       "55309                         42            10           25   \n",
       "55310                        214           158          358   \n",
       "55311                         73            11           70   \n",
       "55312                         90            65          109   \n",
       "55313                         50            24           17   \n",
       "\n",
       "       morale_boosters_stash  league_rank  \n",
       "0                        818            2  \n",
       "1                         24            2  \n",
       "2                       4933            1  \n",
       "3                        126            6  \n",
       "4                        147           10  \n",
       "...                      ...          ...  \n",
       "55309                     37            1  \n",
       "55310                    256            1  \n",
       "55311                     57           11  \n",
       "55312                    150            5  \n",
       "55313                    354            9  \n",
       "\n",
       "[55314 rows x 23 columns]"
      ]
     },
     "execution_count": 166,
     "metadata": {},
     "output_type": "execute_result"
    }
   ],
   "source": [
    "data"
   ]
  },
  {
   "cell_type": "code",
   "execution_count": 167,
   "id": "fcc531b7",
   "metadata": {},
   "outputs": [],
   "source": [
    "# data = data.drop(['season', 'club_id'], axis=1)"
   ]
  },
  {
   "cell_type": "markdown",
   "id": "3243591e",
   "metadata": {},
   "source": [
    "# Data split"
   ]
  },
  {
   "cell_type": "code",
   "execution_count": 168,
   "id": "528776ed",
   "metadata": {},
   "outputs": [],
   "source": [
    "X = data.drop('league_rank', axis=1)\n",
    "y = data['league_rank']-1"
   ]
  },
  {
   "cell_type": "code",
   "execution_count": 169,
   "id": "5f30fb2e",
   "metadata": {},
   "outputs": [],
   "source": [
    "X_train, X_test, y_train, y_test = train_test_split(X, y, test_size=0.2, random_state=43)"
   ]
  },
  {
   "cell_type": "code",
   "execution_count": 170,
   "id": "b2de2619",
   "metadata": {},
   "outputs": [],
   "source": [
    "X_train = preprocess(X_train, y_train)"
   ]
  },
  {
   "cell_type": "code",
   "execution_count": 171,
   "id": "9b8040f8",
   "metadata": {},
   "outputs": [],
   "source": [
    "X_test = process(X_test)"
   ]
  },
  {
   "cell_type": "code",
   "execution_count": 172,
   "id": "a675301c",
   "metadata": {},
   "outputs": [
    {
     "name": "stdout",
     "output_type": "stream",
     "text": [
      "(44251, 36) (11063, 36)\n"
     ]
    }
   ],
   "source": [
    "print(X_train.shape, X_test.shape)"
   ]
  },
  {
   "cell_type": "code",
   "execution_count": 173,
   "id": "7a7e86b5",
   "metadata": {},
   "outputs": [],
   "source": [
    "standard_scaler = StandardScaler()"
   ]
  },
  {
   "cell_type": "code",
   "execution_count": 174,
   "id": "e8f9f689",
   "metadata": {},
   "outputs": [],
   "source": [
    "# X_train = standard_scaler.fit_transform(X_train)\n",
    "# X_test = standard_scaler.transform(X_test)"
   ]
  },
  {
   "cell_type": "markdown",
   "id": "a2bbc25e",
   "metadata": {},
   "source": [
    "# Model training and evaluation"
   ]
  },
  {
   "cell_type": "code",
   "execution_count": 175,
   "id": "e3238d83",
   "metadata": {},
   "outputs": [],
   "source": [
    "# model = LogisticRegression(max_iter=1000, multi_class='multinomial', solver='lbfgs')\n",
    "model = XGBRegressor(device='cuda', max_depth=4, n_estimators=1000)\n",
    "# model = KNeighborsClassifier(n_neighbors=15, weights='distance', n_jobs=-1)\n",
    "# model = SVC()"
   ]
  },
  {
   "cell_type": "code",
   "execution_count": 177,
   "id": "cba2cac3",
   "metadata": {},
   "outputs": [
    {
     "data": {
      "text/plain": [
       "array([-2.26456393, -2.24908703, -2.24754145, -2.27213686, -2.23422354])"
      ]
     },
     "execution_count": 177,
     "metadata": {},
     "output_type": "execute_result"
    }
   ],
   "source": [
    "X = preprocess(X, y)\n",
    "cross_val_score(model, X, y, cv=5, scoring='neg_mean_absolute_error')"
   ]
  },
  {
   "cell_type": "code",
   "execution_count": 155,
   "id": "700645e7",
   "metadata": {},
   "outputs": [
    {
     "data": {
      "text/html": [
       "<style>#sk-container-id-15 {color: black;}#sk-container-id-15 pre{padding: 0;}#sk-container-id-15 div.sk-toggleable {background-color: white;}#sk-container-id-15 label.sk-toggleable__label {cursor: pointer;display: block;width: 100%;margin-bottom: 0;padding: 0.3em;box-sizing: border-box;text-align: center;}#sk-container-id-15 label.sk-toggleable__label-arrow:before {content: \"▸\";float: left;margin-right: 0.25em;color: #696969;}#sk-container-id-15 label.sk-toggleable__label-arrow:hover:before {color: black;}#sk-container-id-15 div.sk-estimator:hover label.sk-toggleable__label-arrow:before {color: black;}#sk-container-id-15 div.sk-toggleable__content {max-height: 0;max-width: 0;overflow: hidden;text-align: left;background-color: #f0f8ff;}#sk-container-id-15 div.sk-toggleable__content pre {margin: 0.2em;color: black;border-radius: 0.25em;background-color: #f0f8ff;}#sk-container-id-15 input.sk-toggleable__control:checked~div.sk-toggleable__content {max-height: 200px;max-width: 100%;overflow: auto;}#sk-container-id-15 input.sk-toggleable__control:checked~label.sk-toggleable__label-arrow:before {content: \"▾\";}#sk-container-id-15 div.sk-estimator input.sk-toggleable__control:checked~label.sk-toggleable__label {background-color: #d4ebff;}#sk-container-id-15 div.sk-label input.sk-toggleable__control:checked~label.sk-toggleable__label {background-color: #d4ebff;}#sk-container-id-15 input.sk-hidden--visually {border: 0;clip: rect(1px 1px 1px 1px);clip: rect(1px, 1px, 1px, 1px);height: 1px;margin: -1px;overflow: hidden;padding: 0;position: absolute;width: 1px;}#sk-container-id-15 div.sk-estimator {font-family: monospace;background-color: #f0f8ff;border: 1px dotted black;border-radius: 0.25em;box-sizing: border-box;margin-bottom: 0.5em;}#sk-container-id-15 div.sk-estimator:hover {background-color: #d4ebff;}#sk-container-id-15 div.sk-parallel-item::after {content: \"\";width: 100%;border-bottom: 1px solid gray;flex-grow: 1;}#sk-container-id-15 div.sk-label:hover label.sk-toggleable__label {background-color: #d4ebff;}#sk-container-id-15 div.sk-serial::before {content: \"\";position: absolute;border-left: 1px solid gray;box-sizing: border-box;top: 0;bottom: 0;left: 50%;z-index: 0;}#sk-container-id-15 div.sk-serial {display: flex;flex-direction: column;align-items: center;background-color: white;padding-right: 0.2em;padding-left: 0.2em;position: relative;}#sk-container-id-15 div.sk-item {position: relative;z-index: 1;}#sk-container-id-15 div.sk-parallel {display: flex;align-items: stretch;justify-content: center;background-color: white;position: relative;}#sk-container-id-15 div.sk-item::before, #sk-container-id-15 div.sk-parallel-item::before {content: \"\";position: absolute;border-left: 1px solid gray;box-sizing: border-box;top: 0;bottom: 0;left: 50%;z-index: -1;}#sk-container-id-15 div.sk-parallel-item {display: flex;flex-direction: column;z-index: 1;position: relative;background-color: white;}#sk-container-id-15 div.sk-parallel-item:first-child::after {align-self: flex-end;width: 50%;}#sk-container-id-15 div.sk-parallel-item:last-child::after {align-self: flex-start;width: 50%;}#sk-container-id-15 div.sk-parallel-item:only-child::after {width: 0;}#sk-container-id-15 div.sk-dashed-wrapped {border: 1px dashed gray;margin: 0 0.4em 0.5em 0.4em;box-sizing: border-box;padding-bottom: 0.4em;background-color: white;}#sk-container-id-15 div.sk-label label {font-family: monospace;font-weight: bold;display: inline-block;line-height: 1.2em;}#sk-container-id-15 div.sk-label-container {text-align: center;}#sk-container-id-15 div.sk-container {/* jupyter's `normalize.less` sets `[hidden] { display: none; }` but bootstrap.min.css set `[hidden] { display: none !important; }` so we also need the `!important` here to be able to override the default hidden behavior on the sphinx rendered scikit-learn.org. See: https://github.com/scikit-learn/scikit-learn/issues/21755 */display: inline-block !important;position: relative;}#sk-container-id-15 div.sk-text-repr-fallback {display: none;}</style><div id=\"sk-container-id-15\" class=\"sk-top-container\"><div class=\"sk-text-repr-fallback\"><pre>XGBRegressor(base_score=None, booster=None, callbacks=None,\n",
       "             colsample_bylevel=None, colsample_bynode=None,\n",
       "             colsample_bytree=None, device=&#x27;cuda&#x27;, early_stopping_rounds=None,\n",
       "             enable_categorical=False, eval_metric=None, feature_types=None,\n",
       "             gamma=None, grow_policy=None, importance_type=None,\n",
       "             interaction_constraints=None, learning_rate=None, max_bin=None,\n",
       "             max_cat_threshold=None, max_cat_to_onehot=None,\n",
       "             max_delta_step=None, max_depth=4, max_leaves=None,\n",
       "             min_child_weight=None, missing=nan, monotone_constraints=None,\n",
       "             multi_strategy=None, n_estimators=1000, n_jobs=None,\n",
       "             num_parallel_tree=None, random_state=None, ...)</pre><b>In a Jupyter environment, please rerun this cell to show the HTML representation or trust the notebook. <br />On GitHub, the HTML representation is unable to render, please try loading this page with nbviewer.org.</b></div><div class=\"sk-container\" hidden><div class=\"sk-item\"><div class=\"sk-estimator sk-toggleable\"><input class=\"sk-toggleable__control sk-hidden--visually\" id=\"sk-estimator-id-15\" type=\"checkbox\" checked><label for=\"sk-estimator-id-15\" class=\"sk-toggleable__label sk-toggleable__label-arrow\">XGBRegressor</label><div class=\"sk-toggleable__content\"><pre>XGBRegressor(base_score=None, booster=None, callbacks=None,\n",
       "             colsample_bylevel=None, colsample_bynode=None,\n",
       "             colsample_bytree=None, device=&#x27;cuda&#x27;, early_stopping_rounds=None,\n",
       "             enable_categorical=False, eval_metric=None, feature_types=None,\n",
       "             gamma=None, grow_policy=None, importance_type=None,\n",
       "             interaction_constraints=None, learning_rate=None, max_bin=None,\n",
       "             max_cat_threshold=None, max_cat_to_onehot=None,\n",
       "             max_delta_step=None, max_depth=4, max_leaves=None,\n",
       "             min_child_weight=None, missing=nan, monotone_constraints=None,\n",
       "             multi_strategy=None, n_estimators=1000, n_jobs=None,\n",
       "             num_parallel_tree=None, random_state=None, ...)</pre></div></div></div></div></div>"
      ],
      "text/plain": [
       "XGBRegressor(base_score=None, booster=None, callbacks=None,\n",
       "             colsample_bylevel=None, colsample_bynode=None,\n",
       "             colsample_bytree=None, device='cuda', early_stopping_rounds=None,\n",
       "             enable_categorical=False, eval_metric=None, feature_types=None,\n",
       "             gamma=None, grow_policy=None, importance_type=None,\n",
       "             interaction_constraints=None, learning_rate=None, max_bin=None,\n",
       "             max_cat_threshold=None, max_cat_to_onehot=None,\n",
       "             max_delta_step=None, max_depth=4, max_leaves=None,\n",
       "             min_child_weight=None, missing=nan, monotone_constraints=None,\n",
       "             multi_strategy=None, n_estimators=1000, n_jobs=None,\n",
       "             num_parallel_tree=None, random_state=None, ...)"
      ]
     },
     "execution_count": 155,
     "metadata": {},
     "output_type": "execute_result"
    }
   ],
   "source": [
    "model.fit(X_train, y_train)"
   ]
  },
  {
   "cell_type": "code",
   "execution_count": 156,
   "id": "2b44d502",
   "metadata": {},
   "outputs": [
    {
     "data": {
      "text/html": [
       "<style>#sk-container-id-16 {color: black;}#sk-container-id-16 pre{padding: 0;}#sk-container-id-16 div.sk-toggleable {background-color: white;}#sk-container-id-16 label.sk-toggleable__label {cursor: pointer;display: block;width: 100%;margin-bottom: 0;padding: 0.3em;box-sizing: border-box;text-align: center;}#sk-container-id-16 label.sk-toggleable__label-arrow:before {content: \"▸\";float: left;margin-right: 0.25em;color: #696969;}#sk-container-id-16 label.sk-toggleable__label-arrow:hover:before {color: black;}#sk-container-id-16 div.sk-estimator:hover label.sk-toggleable__label-arrow:before {color: black;}#sk-container-id-16 div.sk-toggleable__content {max-height: 0;max-width: 0;overflow: hidden;text-align: left;background-color: #f0f8ff;}#sk-container-id-16 div.sk-toggleable__content pre {margin: 0.2em;color: black;border-radius: 0.25em;background-color: #f0f8ff;}#sk-container-id-16 input.sk-toggleable__control:checked~div.sk-toggleable__content {max-height: 200px;max-width: 100%;overflow: auto;}#sk-container-id-16 input.sk-toggleable__control:checked~label.sk-toggleable__label-arrow:before {content: \"▾\";}#sk-container-id-16 div.sk-estimator input.sk-toggleable__control:checked~label.sk-toggleable__label {background-color: #d4ebff;}#sk-container-id-16 div.sk-label input.sk-toggleable__control:checked~label.sk-toggleable__label {background-color: #d4ebff;}#sk-container-id-16 input.sk-hidden--visually {border: 0;clip: rect(1px 1px 1px 1px);clip: rect(1px, 1px, 1px, 1px);height: 1px;margin: -1px;overflow: hidden;padding: 0;position: absolute;width: 1px;}#sk-container-id-16 div.sk-estimator {font-family: monospace;background-color: #f0f8ff;border: 1px dotted black;border-radius: 0.25em;box-sizing: border-box;margin-bottom: 0.5em;}#sk-container-id-16 div.sk-estimator:hover {background-color: #d4ebff;}#sk-container-id-16 div.sk-parallel-item::after {content: \"\";width: 100%;border-bottom: 1px solid gray;flex-grow: 1;}#sk-container-id-16 div.sk-label:hover label.sk-toggleable__label {background-color: #d4ebff;}#sk-container-id-16 div.sk-serial::before {content: \"\";position: absolute;border-left: 1px solid gray;box-sizing: border-box;top: 0;bottom: 0;left: 50%;z-index: 0;}#sk-container-id-16 div.sk-serial {display: flex;flex-direction: column;align-items: center;background-color: white;padding-right: 0.2em;padding-left: 0.2em;position: relative;}#sk-container-id-16 div.sk-item {position: relative;z-index: 1;}#sk-container-id-16 div.sk-parallel {display: flex;align-items: stretch;justify-content: center;background-color: white;position: relative;}#sk-container-id-16 div.sk-item::before, #sk-container-id-16 div.sk-parallel-item::before {content: \"\";position: absolute;border-left: 1px solid gray;box-sizing: border-box;top: 0;bottom: 0;left: 50%;z-index: -1;}#sk-container-id-16 div.sk-parallel-item {display: flex;flex-direction: column;z-index: 1;position: relative;background-color: white;}#sk-container-id-16 div.sk-parallel-item:first-child::after {align-self: flex-end;width: 50%;}#sk-container-id-16 div.sk-parallel-item:last-child::after {align-self: flex-start;width: 50%;}#sk-container-id-16 div.sk-parallel-item:only-child::after {width: 0;}#sk-container-id-16 div.sk-dashed-wrapped {border: 1px dashed gray;margin: 0 0.4em 0.5em 0.4em;box-sizing: border-box;padding-bottom: 0.4em;background-color: white;}#sk-container-id-16 div.sk-label label {font-family: monospace;font-weight: bold;display: inline-block;line-height: 1.2em;}#sk-container-id-16 div.sk-label-container {text-align: center;}#sk-container-id-16 div.sk-container {/* jupyter's `normalize.less` sets `[hidden] { display: none; }` but bootstrap.min.css set `[hidden] { display: none !important; }` so we also need the `!important` here to be able to override the default hidden behavior on the sphinx rendered scikit-learn.org. See: https://github.com/scikit-learn/scikit-learn/issues/21755 */display: inline-block !important;position: relative;}#sk-container-id-16 div.sk-text-repr-fallback {display: none;}</style><div id=\"sk-container-id-16\" class=\"sk-top-container\"><div class=\"sk-text-repr-fallback\"><pre>XGBRegressor(base_score=None, booster=None, callbacks=None,\n",
       "             colsample_bylevel=None, colsample_bynode=None,\n",
       "             colsample_bytree=None, device=&#x27;cpu&#x27;, early_stopping_rounds=None,\n",
       "             enable_categorical=False, eval_metric=None, feature_types=None,\n",
       "             gamma=None, grow_policy=None, importance_type=None,\n",
       "             interaction_constraints=None, learning_rate=None, max_bin=None,\n",
       "             max_cat_threshold=None, max_cat_to_onehot=None,\n",
       "             max_delta_step=None, max_depth=4, max_leaves=None,\n",
       "             min_child_weight=None, missing=nan, monotone_constraints=None,\n",
       "             multi_strategy=None, n_estimators=1000, n_jobs=None,\n",
       "             num_parallel_tree=None, random_state=None, ...)</pre><b>In a Jupyter environment, please rerun this cell to show the HTML representation or trust the notebook. <br />On GitHub, the HTML representation is unable to render, please try loading this page with nbviewer.org.</b></div><div class=\"sk-container\" hidden><div class=\"sk-item\"><div class=\"sk-estimator sk-toggleable\"><input class=\"sk-toggleable__control sk-hidden--visually\" id=\"sk-estimator-id-16\" type=\"checkbox\" checked><label for=\"sk-estimator-id-16\" class=\"sk-toggleable__label sk-toggleable__label-arrow\">XGBRegressor</label><div class=\"sk-toggleable__content\"><pre>XGBRegressor(base_score=None, booster=None, callbacks=None,\n",
       "             colsample_bylevel=None, colsample_bynode=None,\n",
       "             colsample_bytree=None, device=&#x27;cpu&#x27;, early_stopping_rounds=None,\n",
       "             enable_categorical=False, eval_metric=None, feature_types=None,\n",
       "             gamma=None, grow_policy=None, importance_type=None,\n",
       "             interaction_constraints=None, learning_rate=None, max_bin=None,\n",
       "             max_cat_threshold=None, max_cat_to_onehot=None,\n",
       "             max_delta_step=None, max_depth=4, max_leaves=None,\n",
       "             min_child_weight=None, missing=nan, monotone_constraints=None,\n",
       "             multi_strategy=None, n_estimators=1000, n_jobs=None,\n",
       "             num_parallel_tree=None, random_state=None, ...)</pre></div></div></div></div></div>"
      ],
      "text/plain": [
       "XGBRegressor(base_score=None, booster=None, callbacks=None,\n",
       "             colsample_bylevel=None, colsample_bynode=None,\n",
       "             colsample_bytree=None, device='cpu', early_stopping_rounds=None,\n",
       "             enable_categorical=False, eval_metric=None, feature_types=None,\n",
       "             gamma=None, grow_policy=None, importance_type=None,\n",
       "             interaction_constraints=None, learning_rate=None, max_bin=None,\n",
       "             max_cat_threshold=None, max_cat_to_onehot=None,\n",
       "             max_delta_step=None, max_depth=4, max_leaves=None,\n",
       "             min_child_weight=None, missing=nan, monotone_constraints=None,\n",
       "             multi_strategy=None, n_estimators=1000, n_jobs=None,\n",
       "             num_parallel_tree=None, random_state=None, ...)"
      ]
     },
     "execution_count": 156,
     "metadata": {},
     "output_type": "execute_result"
    }
   ],
   "source": [
    "model.set_params(device='cpu')"
   ]
  },
  {
   "cell_type": "code",
   "execution_count": 157,
   "id": "445550a1",
   "metadata": {},
   "outputs": [],
   "source": [
    "y_train_pred = model.predict(X_train)\n",
    "y_test_pred = model.predict(X_test)"
   ]
  },
  {
   "cell_type": "code",
   "execution_count": 158,
   "id": "eb2d6fc2",
   "metadata": {},
   "outputs": [
    {
     "data": {
      "text/plain": [
       "0.7716900795861803"
      ]
     },
     "execution_count": 158,
     "metadata": {},
     "output_type": "execute_result"
    }
   ],
   "source": [
    "r2_score(y_train, y_train_pred)\n",
    "# accuracy_score(y_train, y_train_pred)"
   ]
  },
  {
   "cell_type": "code",
   "execution_count": 159,
   "id": "4570614f",
   "metadata": {},
   "outputs": [
    {
     "data": {
      "text/plain": [
       "0.5054165990698158"
      ]
     },
     "execution_count": 159,
     "metadata": {},
     "output_type": "execute_result"
    }
   ],
   "source": [
    "r2_score(y_test, y_test_pred)\n",
    "# accuracy_score(y_test, y_test_pred)"
   ]
  },
  {
   "cell_type": "code",
   "execution_count": 160,
   "id": "79bd7f45",
   "metadata": {},
   "outputs": [],
   "source": [
    "y_test_pred = np.where(y_test_pred < 0, 0, y_test_pred)\n",
    "y_test_pred = np.where(y_test_pred > 13, 13, y_test_pred)"
   ]
  },
  {
   "cell_type": "code",
   "execution_count": 161,
   "id": "e41864c3",
   "metadata": {},
   "outputs": [
    {
     "data": {
      "text/plain": [
       "2.2217300912953086"
      ]
     },
     "execution_count": 161,
     "metadata": {},
     "output_type": "execute_result"
    }
   ],
   "source": [
    "mae(np.round(y_test_pred), y_test)"
   ]
  },
  {
   "cell_type": "code",
   "execution_count": 162,
   "id": "d5ff91c2",
   "metadata": {
    "scrolled": false
   },
   "outputs": [
    {
     "data": {
      "text/plain": [
       "<AxesSubplot:>"
      ]
     },
     "execution_count": 162,
     "metadata": {},
     "output_type": "execute_result"
    },
    {
     "data": {
      "image/png": "[encoded data removed]",
      "text/plain": [
       "<Figure size 640x480 with 1 Axes>"
      ]
     },
     "metadata": {},
     "output_type": "display_data"
    }
   ],
   "source": [
    "features_imp, features = list(zip(*reversed(sorted(list(zip(model.feature_importances_, X.columns))))))\n",
    "sns.barplot(x=list(features_imp), y=list(features))"
   ]
  },
  {
   "cell_type": "code",
   "execution_count": null,
   "id": "98392c63",
   "metadata": {},
   "outputs": [],
   "source": []
  },
  {
   "cell_type": "markdown",
   "id": "62c0d752",
   "metadata": {},
   "source": [
    "# Predicting and Saving test set"
   ]
  },
  {
   "cell_type": "code",
   "execution_count": null,
   "id": "f98c7c67",
   "metadata": {},
   "outputs": [],
   "source": []
  }
 ],
 "metadata": {
  "kernelspec": {
   "display_name": "Python 3 (ipykernel)",
   "language": "python",
   "name": "python3"
  },
  "language_info": {
   "codemirror_mode": {
    "name": "ipython",
    "version": 3
   },
   "file_extension": ".py",
   "mimetype": "text/x-python",
   "name": "python",
   "nbconvert_exporter": "python",
   "pygments_lexer": "ipython3",
   "version": "3.9.15"
  }
 },
 "nbformat": 4,
 "nbformat_minor": 5
}
