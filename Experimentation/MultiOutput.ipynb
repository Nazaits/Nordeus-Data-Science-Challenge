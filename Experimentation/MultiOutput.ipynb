{
 "cells": [
  {
   "cell_type": "markdown",
   "id": "d6c6b3c1",
   "metadata": {},
   "source": [
    "# Imports"
   ]
  },
  {
   "cell_type": "code",
   "execution_count": 2,
   "id": "4fdb7394",
   "metadata": {},
   "outputs": [],
   "source": [
    "import pandas as pd\n",
    "import numpy as np\n",
    "from sklearn.model_selection import train_test_split, cross_val_score, GridSearchCV\n",
    "from sklearn.preprocessing import StandardScaler\n",
    "from xgboost import XGBRegressor, XGBClassifier\n",
    "from sklearn.metrics import mean_absolute_error as mae, accuracy_score, r2_score\n",
    "import matplotlib.pyplot as plt\n",
    "import seaborn as sns\n",
    "from preprocess import preprocess, process, league_train_test_split, league_fusion, league_split\n",
    "from sklearn.multioutput import MultiOutputRegressor, MultiOutputClassifier\n",
    "from sklearn.linear_model import LinearRegression, LogisticRegression\n",
    "import tensorflow as tf\n",
    "from tensorflow import keras"
   ]
  },
  {
   "cell_type": "markdown",
   "id": "ded5c300",
   "metadata": {},
   "source": [
    "# Data"
   ]
  },
  {
   "cell_type": "code",
   "execution_count": 3,
   "id": "2f320ce5",
   "metadata": {},
   "outputs": [],
   "source": [
    "data = pd.read_csv('jobfair_train.csv')"
   ]
  },
  {
   "cell_type": "code",
   "execution_count": 4,
   "id": "355b13b7",
   "metadata": {},
   "outputs": [
    {
     "data": {
      "text/html": [
       "<div>\n",
       "<style scoped>\n",
       "    .dataframe tbody tr th:only-of-type {\n",
       "        vertical-align: middle;\n",
       "    }\n",
       "\n",
       "    .dataframe tbody tr th {\n",
       "        vertical-align: top;\n",
       "    }\n",
       "\n",
       "    .dataframe thead th {\n",
       "        text-align: right;\n",
       "    }\n",
       "</style>\n",
       "<table border=\"1\" class=\"dataframe\">\n",
       "  <thead>\n",
       "    <tr style=\"text-align: right;\">\n",
       "      <th></th>\n",
       "      <th>season</th>\n",
       "      <th>club_id</th>\n",
       "      <th>league_id</th>\n",
       "      <th>dynamic_payment_segment</th>\n",
       "      <th>cohort_season</th>\n",
       "      <th>avg_age_top_11_players</th>\n",
       "      <th>avg_stars_top_11_players</th>\n",
       "      <th>avg_stars_top_14_players</th>\n",
       "      <th>avg_training_factor_top_11_players</th>\n",
       "      <th>days_active_last_28_days</th>\n",
       "      <th>...</th>\n",
       "      <th>registration_country</th>\n",
       "      <th>registration_platform_specific</th>\n",
       "      <th>league_match_won_count_last_28_days</th>\n",
       "      <th>training_count_last_28_days</th>\n",
       "      <th>global_competition_level</th>\n",
       "      <th>tokens_spent_last_28_days</th>\n",
       "      <th>tokens_stash</th>\n",
       "      <th>rests_stash</th>\n",
       "      <th>morale_boosters_stash</th>\n",
       "      <th>league_rank</th>\n",
       "    </tr>\n",
       "  </thead>\n",
       "  <tbody>\n",
       "    <tr>\n",
       "      <th>0</th>\n",
       "      <td>173</td>\n",
       "      <td>6042825</td>\n",
       "      <td>2912348</td>\n",
       "      <td>2) Minnow</td>\n",
       "      <td>134</td>\n",
       "      <td>25</td>\n",
       "      <td>5.255151</td>\n",
       "      <td>4.483009</td>\n",
       "      <td>1.778801</td>\n",
       "      <td>25</td>\n",
       "      <td>...</td>\n",
       "      <td>Portugal</td>\n",
       "      <td>Flash FB Canvas</td>\n",
       "      <td>24</td>\n",
       "      <td>435</td>\n",
       "      <td>11.0</td>\n",
       "      <td>598</td>\n",
       "      <td>245</td>\n",
       "      <td>186</td>\n",
       "      <td>818</td>\n",
       "      <td>2</td>\n",
       "    </tr>\n",
       "    <tr>\n",
       "      <th>1</th>\n",
       "      <td>173</td>\n",
       "      <td>9620967</td>\n",
       "      <td>2912140</td>\n",
       "      <td>2) Minnow</td>\n",
       "      <td>28</td>\n",
       "      <td>23</td>\n",
       "      <td>4.962521</td>\n",
       "      <td>4.785648</td>\n",
       "      <td>-0.002687</td>\n",
       "      <td>28</td>\n",
       "      <td>...</td>\n",
       "      <td>Turkey</td>\n",
       "      <td>Android Phone</td>\n",
       "      <td>19</td>\n",
       "      <td>58</td>\n",
       "      <td>7.0</td>\n",
       "      <td>269</td>\n",
       "      <td>0</td>\n",
       "      <td>35</td>\n",
       "      <td>24</td>\n",
       "      <td>2</td>\n",
       "    </tr>\n",
       "    <tr>\n",
       "      <th>2</th>\n",
       "      <td>173</td>\n",
       "      <td>6045474</td>\n",
       "      <td>2912933</td>\n",
       "      <td>4) Whale</td>\n",
       "      <td>136</td>\n",
       "      <td>23</td>\n",
       "      <td>11.105782</td>\n",
       "      <td>10.511133</td>\n",
       "      <td>0.628794</td>\n",
       "      <td>28</td>\n",
       "      <td>...</td>\n",
       "      <td>Belgium</td>\n",
       "      <td>Flash FB Canvas</td>\n",
       "      <td>26</td>\n",
       "      <td>116</td>\n",
       "      <td>8.0</td>\n",
       "      <td>23180</td>\n",
       "      <td>369</td>\n",
       "      <td>444</td>\n",
       "      <td>4933</td>\n",
       "      <td>1</td>\n",
       "    </tr>\n",
       "    <tr>\n",
       "      <th>3</th>\n",
       "      <td>173</td>\n",
       "      <td>14187773</td>\n",
       "      <td>2910371</td>\n",
       "      <td>0) NonPayer</td>\n",
       "      <td>2</td>\n",
       "      <td>21</td>\n",
       "      <td>4.164848</td>\n",
       "      <td>4.023486</td>\n",
       "      <td>0.551904</td>\n",
       "      <td>12</td>\n",
       "      <td>...</td>\n",
       "      <td>Malaysia</td>\n",
       "      <td>Android Phone</td>\n",
       "      <td>11</td>\n",
       "      <td>22</td>\n",
       "      <td>2.0</td>\n",
       "      <td>41</td>\n",
       "      <td>43</td>\n",
       "      <td>213</td>\n",
       "      <td>126</td>\n",
       "      <td>6</td>\n",
       "    </tr>\n",
       "    <tr>\n",
       "      <th>4</th>\n",
       "      <td>173</td>\n",
       "      <td>13694853</td>\n",
       "      <td>2907632</td>\n",
       "      <td>0) NonPayer</td>\n",
       "      <td>5</td>\n",
       "      <td>22</td>\n",
       "      <td>3.031939</td>\n",
       "      <td>2.926029</td>\n",
       "      <td>0.690544</td>\n",
       "      <td>0</td>\n",
       "      <td>...</td>\n",
       "      <td>Italy</td>\n",
       "      <td>iOS Phone</td>\n",
       "      <td>9</td>\n",
       "      <td>0</td>\n",
       "      <td>4.0</td>\n",
       "      <td>0</td>\n",
       "      <td>16</td>\n",
       "      <td>100</td>\n",
       "      <td>147</td>\n",
       "      <td>10</td>\n",
       "    </tr>\n",
       "  </tbody>\n",
       "</table>\n",
       "<p>5 rows × 23 columns</p>\n",
       "</div>"
      ],
      "text/plain": [
       "   season   club_id  league_id dynamic_payment_segment  cohort_season  \\\n",
       "0     173   6042825    2912348               2) Minnow            134   \n",
       "1     173   9620967    2912140               2) Minnow             28   \n",
       "2     173   6045474    2912933                4) Whale            136   \n",
       "3     173  14187773    2910371             0) NonPayer              2   \n",
       "4     173  13694853    2907632             0) NonPayer              5   \n",
       "\n",
       "   avg_age_top_11_players  avg_stars_top_11_players  avg_stars_top_14_players  \\\n",
       "0                      25                  5.255151                  4.483009   \n",
       "1                      23                  4.962521                  4.785648   \n",
       "2                      23                 11.105782                 10.511133   \n",
       "3                      21                  4.164848                  4.023486   \n",
       "4                      22                  3.031939                  2.926029   \n",
       "\n",
       "   avg_training_factor_top_11_players  days_active_last_28_days  ...  \\\n",
       "0                            1.778801                        25  ...   \n",
       "1                           -0.002687                        28  ...   \n",
       "2                            0.628794                        28  ...   \n",
       "3                            0.551904                        12  ...   \n",
       "4                            0.690544                         0  ...   \n",
       "\n",
       "   registration_country  registration_platform_specific  \\\n",
       "0              Portugal                 Flash FB Canvas   \n",
       "1                Turkey                   Android Phone   \n",
       "2               Belgium                 Flash FB Canvas   \n",
       "3              Malaysia                   Android Phone   \n",
       "4                 Italy                       iOS Phone   \n",
       "\n",
       "   league_match_won_count_last_28_days training_count_last_28_days  \\\n",
       "0                                   24                         435   \n",
       "1                                   19                          58   \n",
       "2                                   26                         116   \n",
       "3                                   11                          22   \n",
       "4                                    9                           0   \n",
       "\n",
       "  global_competition_level  tokens_spent_last_28_days  tokens_stash  \\\n",
       "0                     11.0                        598           245   \n",
       "1                      7.0                        269             0   \n",
       "2                      8.0                      23180           369   \n",
       "3                      2.0                         41            43   \n",
       "4                      4.0                          0            16   \n",
       "\n",
       "   rests_stash  morale_boosters_stash  league_rank  \n",
       "0          186                    818            2  \n",
       "1           35                     24            2  \n",
       "2          444                   4933            1  \n",
       "3          213                    126            6  \n",
       "4          100                    147           10  \n",
       "\n",
       "[5 rows x 23 columns]"
      ]
     },
     "execution_count": 4,
     "metadata": {},
     "output_type": "execute_result"
    }
   ],
   "source": [
    "data.head()"
   ]
  },
  {
   "cell_type": "code",
   "execution_count": null,
   "id": "c019cf07",
   "metadata": {},
   "outputs": [],
   "source": [
    "data.drop(['season', 'club_id'], axis=1, inplace=True)"
   ]
  },
  {
   "cell_type": "markdown",
   "id": "1acc8e47",
   "metadata": {},
   "source": [
    "# Data split"
   ]
  },
  {
   "cell_type": "code",
   "execution_count": null,
   "id": "9ebf6bd2",
   "metadata": {},
   "outputs": [],
   "source": [
    "data_train, data_test = league_split(data)"
   ]
  },
  {
   "cell_type": "code",
   "execution_count": null,
   "id": "db422cc4",
   "metadata": {},
   "outputs": [],
   "source": [
    "data_train = preprocess(data_train, data_train['league_rank'])\n",
    "data_test = process(data_test)"
   ]
  },
  {
   "cell_type": "code",
   "execution_count": 16,
   "id": "483fa476",
   "metadata": {},
   "outputs": [
    {
     "name": "stdout",
     "output_type": "stream",
     "text": [
      "CPU times: total: 40min 5s\n",
      "Wall time: 47min 20s\n"
     ]
    }
   ],
   "source": [
    "%%time\n",
    "kaioken = 1\n",
    "data_train = league_fusion(data_train, kaioken=kaioken)\n",
    "data_test = league_fusion(data_test)\n",
    "data_train.drop(['league_id'], axis=1, inplace=True)\n",
    "data_test.drop(['league_id'], axis=1, inplace=True)"
   ]
  },
  {
   "cell_type": "code",
   "execution_count": 17,
   "id": "2c3595af",
   "metadata": {},
   "outputs": [],
   "source": [
    "pred_columns = data_train.columns[-14:]\n",
    "X_train = data_train.drop(pred_columns, axis=1)\n",
    "Y_train = data_train[pred_columns]\n",
    "X_test = data_test.drop(pred_columns, axis=1)\n",
    "Y_test = data_test[pred_columns]"
   ]
  },
  {
   "cell_type": "code",
   "execution_count": 18,
   "id": "4d8bb52a",
   "metadata": {},
   "outputs": [
    {
     "data": {
      "text/html": [
       "<div>\n",
       "<style scoped>\n",
       "    .dataframe tbody tr th:only-of-type {\n",
       "        vertical-align: middle;\n",
       "    }\n",
       "\n",
       "    .dataframe tbody tr th {\n",
       "        vertical-align: top;\n",
       "    }\n",
       "\n",
       "    .dataframe thead th {\n",
       "        text-align: right;\n",
       "    }\n",
       "</style>\n",
       "<table border=\"1\" class=\"dataframe\">\n",
       "  <thead>\n",
       "    <tr style=\"text-align: right;\">\n",
       "      <th></th>\n",
       "      <th>cohort_season_1</th>\n",
       "      <th>avg_age_top_11_players_1</th>\n",
       "      <th>avg_stars_top_11_players_1</th>\n",
       "      <th>avg_stars_top_14_players_1</th>\n",
       "      <th>avg_training_factor_top_11_players_1</th>\n",
       "      <th>days_active_last_28_days_1</th>\n",
       "      <th>league_match_watched_count_last_28_days_1</th>\n",
       "      <th>session_count_last_28_days_1</th>\n",
       "      <th>playtime_last_28_days_1</th>\n",
       "      <th>league_match_won_count_last_28_days_1</th>\n",
       "      <th>...</th>\n",
       "      <th>Flash FB Canvas_14</th>\n",
       "      <th>Flash TE Site_14</th>\n",
       "      <th>UniversalWindows PC_14</th>\n",
       "      <th>WebGL FB Canvas_14</th>\n",
       "      <th>WebGL TE Site_14</th>\n",
       "      <th>WebGL or Flash FB Canvas_14</th>\n",
       "      <th>WebGL or Flash TE Site_14</th>\n",
       "      <th>iOS Phone_14</th>\n",
       "      <th>iOS Tablet_14</th>\n",
       "      <th>registration_country_encoded_14</th>\n",
       "    </tr>\n",
       "  </thead>\n",
       "  <tbody>\n",
       "    <tr>\n",
       "      <th>0</th>\n",
       "      <td>76.0</td>\n",
       "      <td>24.0</td>\n",
       "      <td>5.100642</td>\n",
       "      <td>4.953686</td>\n",
       "      <td>0.652065</td>\n",
       "      <td>28.0</td>\n",
       "      <td>16.0</td>\n",
       "      <td>73.0</td>\n",
       "      <td>34707248.0</td>\n",
       "      <td>17.0</td>\n",
       "      <td>...</td>\n",
       "      <td>0.0</td>\n",
       "      <td>0.0</td>\n",
       "      <td>0.0</td>\n",
       "      <td>0.0</td>\n",
       "      <td>0.0</td>\n",
       "      <td>0.0</td>\n",
       "      <td>0.0</td>\n",
       "      <td>0.0</td>\n",
       "      <td>0.0</td>\n",
       "      <td>7.989048</td>\n",
       "    </tr>\n",
       "    <tr>\n",
       "      <th>1</th>\n",
       "      <td>76.0</td>\n",
       "      <td>24.0</td>\n",
       "      <td>5.100642</td>\n",
       "      <td>4.953686</td>\n",
       "      <td>0.652065</td>\n",
       "      <td>28.0</td>\n",
       "      <td>16.0</td>\n",
       "      <td>73.0</td>\n",
       "      <td>34707248.0</td>\n",
       "      <td>17.0</td>\n",
       "      <td>...</td>\n",
       "      <td>0.0</td>\n",
       "      <td>0.0</td>\n",
       "      <td>0.0</td>\n",
       "      <td>0.0</td>\n",
       "      <td>0.0</td>\n",
       "      <td>0.0</td>\n",
       "      <td>0.0</td>\n",
       "      <td>1.0</td>\n",
       "      <td>0.0</td>\n",
       "      <td>7.278672</td>\n",
       "    </tr>\n",
       "    <tr>\n",
       "      <th>2</th>\n",
       "      <td>74.0</td>\n",
       "      <td>22.0</td>\n",
       "      <td>5.082533</td>\n",
       "      <td>4.868886</td>\n",
       "      <td>0.525388</td>\n",
       "      <td>24.0</td>\n",
       "      <td>9.0</td>\n",
       "      <td>196.0</td>\n",
       "      <td>45706317.0</td>\n",
       "      <td>16.0</td>\n",
       "      <td>...</td>\n",
       "      <td>0.0</td>\n",
       "      <td>0.0</td>\n",
       "      <td>0.0</td>\n",
       "      <td>0.0</td>\n",
       "      <td>0.0</td>\n",
       "      <td>0.0</td>\n",
       "      <td>0.0</td>\n",
       "      <td>0.0</td>\n",
       "      <td>0.0</td>\n",
       "      <td>7.278672</td>\n",
       "    </tr>\n",
       "    <tr>\n",
       "      <th>3</th>\n",
       "      <td>78.0</td>\n",
       "      <td>26.0</td>\n",
       "      <td>5.073043</td>\n",
       "      <td>4.885886</td>\n",
       "      <td>0.692484</td>\n",
       "      <td>9.0</td>\n",
       "      <td>0.0</td>\n",
       "      <td>12.0</td>\n",
       "      <td>3819900.0</td>\n",
       "      <td>9.0</td>\n",
       "      <td>...</td>\n",
       "      <td>0.0</td>\n",
       "      <td>0.0</td>\n",
       "      <td>0.0</td>\n",
       "      <td>0.0</td>\n",
       "      <td>0.0</td>\n",
       "      <td>0.0</td>\n",
       "      <td>0.0</td>\n",
       "      <td>0.0</td>\n",
       "      <td>0.0</td>\n",
       "      <td>7.745882</td>\n",
       "    </tr>\n",
       "    <tr>\n",
       "      <th>4</th>\n",
       "      <td>130.0</td>\n",
       "      <td>28.0</td>\n",
       "      <td>5.201854</td>\n",
       "      <td>4.946562</td>\n",
       "      <td>0.660123</td>\n",
       "      <td>21.0</td>\n",
       "      <td>0.0</td>\n",
       "      <td>22.0</td>\n",
       "      <td>3313534.0</td>\n",
       "      <td>6.0</td>\n",
       "      <td>...</td>\n",
       "      <td>0.0</td>\n",
       "      <td>0.0</td>\n",
       "      <td>0.0</td>\n",
       "      <td>0.0</td>\n",
       "      <td>0.0</td>\n",
       "      <td>0.0</td>\n",
       "      <td>0.0</td>\n",
       "      <td>0.0</td>\n",
       "      <td>0.0</td>\n",
       "      <td>7.745882</td>\n",
       "    </tr>\n",
       "    <tr>\n",
       "      <th>...</th>\n",
       "      <td>...</td>\n",
       "      <td>...</td>\n",
       "      <td>...</td>\n",
       "      <td>...</td>\n",
       "      <td>...</td>\n",
       "      <td>...</td>\n",
       "      <td>...</td>\n",
       "      <td>...</td>\n",
       "      <td>...</td>\n",
       "      <td>...</td>\n",
       "      <td>...</td>\n",
       "      <td>...</td>\n",
       "      <td>...</td>\n",
       "      <td>...</td>\n",
       "      <td>...</td>\n",
       "      <td>...</td>\n",
       "      <td>...</td>\n",
       "      <td>...</td>\n",
       "      <td>...</td>\n",
       "      <td>...</td>\n",
       "      <td>...</td>\n",
       "    </tr>\n",
       "    <tr>\n",
       "      <th>324295</th>\n",
       "      <td>5.0</td>\n",
       "      <td>21.0</td>\n",
       "      <td>4.201527</td>\n",
       "      <td>4.001210</td>\n",
       "      <td>0.920557</td>\n",
       "      <td>27.0</td>\n",
       "      <td>18.0</td>\n",
       "      <td>175.0</td>\n",
       "      <td>239756890.0</td>\n",
       "      <td>24.0</td>\n",
       "      <td>...</td>\n",
       "      <td>0.0</td>\n",
       "      <td>0.0</td>\n",
       "      <td>0.0</td>\n",
       "      <td>0.0</td>\n",
       "      <td>0.0</td>\n",
       "      <td>0.0</td>\n",
       "      <td>0.0</td>\n",
       "      <td>1.0</td>\n",
       "      <td>0.0</td>\n",
       "      <td>7.515813</td>\n",
       "    </tr>\n",
       "    <tr>\n",
       "      <th>324296</th>\n",
       "      <td>2.0</td>\n",
       "      <td>23.0</td>\n",
       "      <td>3.347855</td>\n",
       "      <td>3.214076</td>\n",
       "      <td>0.642500</td>\n",
       "      <td>0.0</td>\n",
       "      <td>0.0</td>\n",
       "      <td>0.0</td>\n",
       "      <td>0.0</td>\n",
       "      <td>10.0</td>\n",
       "      <td>...</td>\n",
       "      <td>0.0</td>\n",
       "      <td>0.0</td>\n",
       "      <td>0.0</td>\n",
       "      <td>0.0</td>\n",
       "      <td>0.0</td>\n",
       "      <td>0.0</td>\n",
       "      <td>0.0</td>\n",
       "      <td>0.0</td>\n",
       "      <td>0.0</td>\n",
       "      <td>7.206576</td>\n",
       "    </tr>\n",
       "    <tr>\n",
       "      <th>324297</th>\n",
       "      <td>5.0</td>\n",
       "      <td>21.0</td>\n",
       "      <td>4.201527</td>\n",
       "      <td>4.001210</td>\n",
       "      <td>0.920557</td>\n",
       "      <td>27.0</td>\n",
       "      <td>18.0</td>\n",
       "      <td>175.0</td>\n",
       "      <td>239756890.0</td>\n",
       "      <td>24.0</td>\n",
       "      <td>...</td>\n",
       "      <td>0.0</td>\n",
       "      <td>0.0</td>\n",
       "      <td>0.0</td>\n",
       "      <td>0.0</td>\n",
       "      <td>0.0</td>\n",
       "      <td>0.0</td>\n",
       "      <td>0.0</td>\n",
       "      <td>0.0</td>\n",
       "      <td>0.0</td>\n",
       "      <td>7.206576</td>\n",
       "    </tr>\n",
       "    <tr>\n",
       "      <th>324298</th>\n",
       "      <td>2.0</td>\n",
       "      <td>23.0</td>\n",
       "      <td>3.347855</td>\n",
       "      <td>3.214076</td>\n",
       "      <td>0.642500</td>\n",
       "      <td>0.0</td>\n",
       "      <td>0.0</td>\n",
       "      <td>0.0</td>\n",
       "      <td>0.0</td>\n",
       "      <td>10.0</td>\n",
       "      <td>...</td>\n",
       "      <td>0.0</td>\n",
       "      <td>0.0</td>\n",
       "      <td>0.0</td>\n",
       "      <td>0.0</td>\n",
       "      <td>0.0</td>\n",
       "      <td>0.0</td>\n",
       "      <td>0.0</td>\n",
       "      <td>0.0</td>\n",
       "      <td>0.0</td>\n",
       "      <td>7.102579</td>\n",
       "    </tr>\n",
       "    <tr>\n",
       "      <th>324299</th>\n",
       "      <td>2.0</td>\n",
       "      <td>23.0</td>\n",
       "      <td>3.347855</td>\n",
       "      <td>3.214076</td>\n",
       "      <td>0.642500</td>\n",
       "      <td>0.0</td>\n",
       "      <td>0.0</td>\n",
       "      <td>0.0</td>\n",
       "      <td>0.0</td>\n",
       "      <td>10.0</td>\n",
       "      <td>...</td>\n",
       "      <td>0.0</td>\n",
       "      <td>0.0</td>\n",
       "      <td>0.0</td>\n",
       "      <td>0.0</td>\n",
       "      <td>0.0</td>\n",
       "      <td>0.0</td>\n",
       "      <td>0.0</td>\n",
       "      <td>0.0</td>\n",
       "      <td>1.0</td>\n",
       "      <td>7.102579</td>\n",
       "    </tr>\n",
       "  </tbody>\n",
       "</table>\n",
       "<p>324300 rows × 462 columns</p>\n",
       "</div>"
      ],
      "text/plain": [
       "        cohort_season_1  avg_age_top_11_players_1  avg_stars_top_11_players_1  \\\n",
       "0                  76.0                      24.0                    5.100642   \n",
       "1                  76.0                      24.0                    5.100642   \n",
       "2                  74.0                      22.0                    5.082533   \n",
       "3                  78.0                      26.0                    5.073043   \n",
       "4                 130.0                      28.0                    5.201854   \n",
       "...                 ...                       ...                         ...   \n",
       "324295              5.0                      21.0                    4.201527   \n",
       "324296              2.0                      23.0                    3.347855   \n",
       "324297              5.0                      21.0                    4.201527   \n",
       "324298              2.0                      23.0                    3.347855   \n",
       "324299              2.0                      23.0                    3.347855   \n",
       "\n",
       "        avg_stars_top_14_players_1  avg_training_factor_top_11_players_1  \\\n",
       "0                         4.953686                              0.652065   \n",
       "1                         4.953686                              0.652065   \n",
       "2                         4.868886                              0.525388   \n",
       "3                         4.885886                              0.692484   \n",
       "4                         4.946562                              0.660123   \n",
       "...                            ...                                   ...   \n",
       "324295                    4.001210                              0.920557   \n",
       "324296                    3.214076                              0.642500   \n",
       "324297                    4.001210                              0.920557   \n",
       "324298                    3.214076                              0.642500   \n",
       "324299                    3.214076                              0.642500   \n",
       "\n",
       "        days_active_last_28_days_1  league_match_watched_count_last_28_days_1  \\\n",
       "0                             28.0                                       16.0   \n",
       "1                             28.0                                       16.0   \n",
       "2                             24.0                                        9.0   \n",
       "3                              9.0                                        0.0   \n",
       "4                             21.0                                        0.0   \n",
       "...                            ...                                        ...   \n",
       "324295                        27.0                                       18.0   \n",
       "324296                         0.0                                        0.0   \n",
       "324297                        27.0                                       18.0   \n",
       "324298                         0.0                                        0.0   \n",
       "324299                         0.0                                        0.0   \n",
       "\n",
       "        session_count_last_28_days_1  playtime_last_28_days_1  \\\n",
       "0                               73.0               34707248.0   \n",
       "1                               73.0               34707248.0   \n",
       "2                              196.0               45706317.0   \n",
       "3                               12.0                3819900.0   \n",
       "4                               22.0                3313534.0   \n",
       "...                              ...                      ...   \n",
       "324295                         175.0              239756890.0   \n",
       "324296                           0.0                      0.0   \n",
       "324297                         175.0              239756890.0   \n",
       "324298                           0.0                      0.0   \n",
       "324299                           0.0                      0.0   \n",
       "\n",
       "        league_match_won_count_last_28_days_1  ...  Flash FB Canvas_14  \\\n",
       "0                                        17.0  ...                 0.0   \n",
       "1                                        17.0  ...                 0.0   \n",
       "2                                        16.0  ...                 0.0   \n",
       "3                                         9.0  ...                 0.0   \n",
       "4                                         6.0  ...                 0.0   \n",
       "...                                       ...  ...                 ...   \n",
       "324295                                   24.0  ...                 0.0   \n",
       "324296                                   10.0  ...                 0.0   \n",
       "324297                                   24.0  ...                 0.0   \n",
       "324298                                   10.0  ...                 0.0   \n",
       "324299                                   10.0  ...                 0.0   \n",
       "\n",
       "        Flash TE Site_14  UniversalWindows PC_14  WebGL FB Canvas_14  \\\n",
       "0                    0.0                     0.0                 0.0   \n",
       "1                    0.0                     0.0                 0.0   \n",
       "2                    0.0                     0.0                 0.0   \n",
       "3                    0.0                     0.0                 0.0   \n",
       "4                    0.0                     0.0                 0.0   \n",
       "...                  ...                     ...                 ...   \n",
       "324295               0.0                     0.0                 0.0   \n",
       "324296               0.0                     0.0                 0.0   \n",
       "324297               0.0                     0.0                 0.0   \n",
       "324298               0.0                     0.0                 0.0   \n",
       "324299               0.0                     0.0                 0.0   \n",
       "\n",
       "        WebGL TE Site_14  WebGL or Flash FB Canvas_14  \\\n",
       "0                    0.0                          0.0   \n",
       "1                    0.0                          0.0   \n",
       "2                    0.0                          0.0   \n",
       "3                    0.0                          0.0   \n",
       "4                    0.0                          0.0   \n",
       "...                  ...                          ...   \n",
       "324295               0.0                          0.0   \n",
       "324296               0.0                          0.0   \n",
       "324297               0.0                          0.0   \n",
       "324298               0.0                          0.0   \n",
       "324299               0.0                          0.0   \n",
       "\n",
       "        WebGL or Flash TE Site_14  iOS Phone_14  iOS Tablet_14  \\\n",
       "0                             0.0           0.0            0.0   \n",
       "1                             0.0           1.0            0.0   \n",
       "2                             0.0           0.0            0.0   \n",
       "3                             0.0           0.0            0.0   \n",
       "4                             0.0           0.0            0.0   \n",
       "...                           ...           ...            ...   \n",
       "324295                        0.0           1.0            0.0   \n",
       "324296                        0.0           0.0            0.0   \n",
       "324297                        0.0           0.0            0.0   \n",
       "324298                        0.0           0.0            0.0   \n",
       "324299                        0.0           0.0            1.0   \n",
       "\n",
       "        registration_country_encoded_14  \n",
       "0                              7.989048  \n",
       "1                              7.278672  \n",
       "2                              7.278672  \n",
       "3                              7.745882  \n",
       "4                              7.745882  \n",
       "...                                 ...  \n",
       "324295                         7.515813  \n",
       "324296                         7.206576  \n",
       "324297                         7.206576  \n",
       "324298                         7.102579  \n",
       "324299                         7.102579  \n",
       "\n",
       "[324300 rows x 462 columns]"
      ]
     },
     "execution_count": 18,
     "metadata": {},
     "output_type": "execute_result"
    }
   ],
   "source": [
    "X_train"
   ]
  },
  {
   "cell_type": "code",
   "execution_count": 19,
   "id": "bbbe6f31",
   "metadata": {},
   "outputs": [
    {
     "name": "stdout",
     "output_type": "stream",
     "text": [
      "CPU times: total: 2min 3s\n",
      "Wall time: 2min 4s\n"
     ]
    }
   ],
   "source": [
    "%%time\n",
    "X_train.to_csv(f'kaioken{kaioken}_train.csv', index=False)"
   ]
  },
  {
   "cell_type": "code",
   "execution_count": 20,
   "id": "ff32c265",
   "metadata": {},
   "outputs": [],
   "source": [
    "X_test.to_csv(f'kaioken{kaioken}_test.csv', index=False)"
   ]
  },
  {
   "cell_type": "code",
   "execution_count": 21,
   "id": "d16e9a6e",
   "metadata": {},
   "outputs": [],
   "source": [
    "Y_train.to_csv(f'kaioken{kaioken}_train_labels.csv', index=False)\n",
    "Y_test.to_csv(f'kaioken{kaioken}_test_labels.csv', index=False)"
   ]
  },
  {
   "cell_type": "code",
   "execution_count": 2,
   "id": "a1ca5d4d",
   "metadata": {},
   "outputs": [],
   "source": [
    "X_train = pd.read_csv('kaioken100_train.csv')\n",
    "X_test = pd.read_csv('kaioken100_test.csv')\n",
    "Y_train = pd.read_csv('kaioken100_train_labels.csv')\n",
    "Y_test = pd.read_csv('kaioken100_test_labels.csv')"
   ]
  },
  {
   "cell_type": "markdown",
   "id": "9e484a1f",
   "metadata": {},
   "source": [
    "# Model evaluation"
   ]
  },
  {
   "cell_type": "markdown",
   "id": "273b8cc8",
   "metadata": {},
   "source": [
    "### Xgboost"
   ]
  },
  {
   "cell_type": "code",
   "execution_count": 12,
   "id": "ebf26420",
   "metadata": {},
   "outputs": [],
   "source": [
    "multi_xgb_regression = MultiOutputRegressor(XGBRegressor(max_depth=2, n_estimators=1024, device='cuda'), n_jobs=4)"
   ]
  },
  {
   "cell_type": "code",
   "execution_count": 16,
   "id": "fe93257e",
   "metadata": {},
   "outputs": [
    {
     "name": "stdout",
     "output_type": "stream",
     "text": [
      "CPU times: total: 4.84 s\n",
      "Wall time: 9min 8s\n"
     ]
    },
    {
     "data": {
      "text/html": [
       "<style>#sk-container-id-1 {color: black;}#sk-container-id-1 pre{padding: 0;}#sk-container-id-1 div.sk-toggleable {background-color: white;}#sk-container-id-1 label.sk-toggleable__label {cursor: pointer;display: block;width: 100%;margin-bottom: 0;padding: 0.3em;box-sizing: border-box;text-align: center;}#sk-container-id-1 label.sk-toggleable__label-arrow:before {content: \"▸\";float: left;margin-right: 0.25em;color: #696969;}#sk-container-id-1 label.sk-toggleable__label-arrow:hover:before {color: black;}#sk-container-id-1 div.sk-estimator:hover label.sk-toggleable__label-arrow:before {color: black;}#sk-container-id-1 div.sk-toggleable__content {max-height: 0;max-width: 0;overflow: hidden;text-align: left;background-color: #f0f8ff;}#sk-container-id-1 div.sk-toggleable__content pre {margin: 0.2em;color: black;border-radius: 0.25em;background-color: #f0f8ff;}#sk-container-id-1 input.sk-toggleable__control:checked~div.sk-toggleable__content {max-height: 200px;max-width: 100%;overflow: auto;}#sk-container-id-1 input.sk-toggleable__control:checked~label.sk-toggleable__label-arrow:before {content: \"▾\";}#sk-container-id-1 div.sk-estimator input.sk-toggleable__control:checked~label.sk-toggleable__label {background-color: #d4ebff;}#sk-container-id-1 div.sk-label input.sk-toggleable__control:checked~label.sk-toggleable__label {background-color: #d4ebff;}#sk-container-id-1 input.sk-hidden--visually {border: 0;clip: rect(1px 1px 1px 1px);clip: rect(1px, 1px, 1px, 1px);height: 1px;margin: -1px;overflow: hidden;padding: 0;position: absolute;width: 1px;}#sk-container-id-1 div.sk-estimator {font-family: monospace;background-color: #f0f8ff;border: 1px dotted black;border-radius: 0.25em;box-sizing: border-box;margin-bottom: 0.5em;}#sk-container-id-1 div.sk-estimator:hover {background-color: #d4ebff;}#sk-container-id-1 div.sk-parallel-item::after {content: \"\";width: 100%;border-bottom: 1px solid gray;flex-grow: 1;}#sk-container-id-1 div.sk-label:hover label.sk-toggleable__label {background-color: #d4ebff;}#sk-container-id-1 div.sk-serial::before {content: \"\";position: absolute;border-left: 1px solid gray;box-sizing: border-box;top: 0;bottom: 0;left: 50%;z-index: 0;}#sk-container-id-1 div.sk-serial {display: flex;flex-direction: column;align-items: center;background-color: white;padding-right: 0.2em;padding-left: 0.2em;position: relative;}#sk-container-id-1 div.sk-item {position: relative;z-index: 1;}#sk-container-id-1 div.sk-parallel {display: flex;align-items: stretch;justify-content: center;background-color: white;position: relative;}#sk-container-id-1 div.sk-item::before, #sk-container-id-1 div.sk-parallel-item::before {content: \"\";position: absolute;border-left: 1px solid gray;box-sizing: border-box;top: 0;bottom: 0;left: 50%;z-index: -1;}#sk-container-id-1 div.sk-parallel-item {display: flex;flex-direction: column;z-index: 1;position: relative;background-color: white;}#sk-container-id-1 div.sk-parallel-item:first-child::after {align-self: flex-end;width: 50%;}#sk-container-id-1 div.sk-parallel-item:last-child::after {align-self: flex-start;width: 50%;}#sk-container-id-1 div.sk-parallel-item:only-child::after {width: 0;}#sk-container-id-1 div.sk-dashed-wrapped {border: 1px dashed gray;margin: 0 0.4em 0.5em 0.4em;box-sizing: border-box;padding-bottom: 0.4em;background-color: white;}#sk-container-id-1 div.sk-label label {font-family: monospace;font-weight: bold;display: inline-block;line-height: 1.2em;}#sk-container-id-1 div.sk-label-container {text-align: center;}#sk-container-id-1 div.sk-container {/* jupyter's `normalize.less` sets `[hidden] { display: none; }` but bootstrap.min.css set `[hidden] { display: none !important; }` so we also need the `!important` here to be able to override the default hidden behavior on the sphinx rendered scikit-learn.org. See: https://github.com/scikit-learn/scikit-learn/issues/21755 */display: inline-block !important;position: relative;}#sk-container-id-1 div.sk-text-repr-fallback {display: none;}</style><div id=\"sk-container-id-1\" class=\"sk-top-container\"><div class=\"sk-text-repr-fallback\"><pre>MultiOutputRegressor(estimator=XGBRegressor(base_score=None, booster=None,\n",
       "                                            callbacks=None,\n",
       "                                            colsample_bylevel=None,\n",
       "                                            colsample_bynode=None,\n",
       "                                            colsample_bytree=None,\n",
       "                                            device=&#x27;cuda&#x27;,\n",
       "                                            early_stopping_rounds=None,\n",
       "                                            enable_categorical=False,\n",
       "                                            eval_metric=None,\n",
       "                                            feature_types=None, gamma=None,\n",
       "                                            grow_policy=None,\n",
       "                                            importance_type=None,\n",
       "                                            interaction_constraints=None,\n",
       "                                            learning_rate=None, max_bin=None,\n",
       "                                            max_cat_threshold=None,\n",
       "                                            max_cat_to_onehot=None,\n",
       "                                            max_delta_step=None, max_depth=2,\n",
       "                                            max_leaves=None,\n",
       "                                            min_child_weight=None, missing=nan,\n",
       "                                            monotone_constraints=None,\n",
       "                                            multi_strategy=None,\n",
       "                                            n_estimators=1024, n_jobs=None,\n",
       "                                            num_parallel_tree=None,\n",
       "                                            random_state=None, ...),\n",
       "                     n_jobs=4)</pre><b>In a Jupyter environment, please rerun this cell to show the HTML representation or trust the notebook. <br />On GitHub, the HTML representation is unable to render, please try loading this page with nbviewer.org.</b></div><div class=\"sk-container\" hidden><div class=\"sk-item sk-dashed-wrapped\"><div class=\"sk-label-container\"><div class=\"sk-label sk-toggleable\"><input class=\"sk-toggleable__control sk-hidden--visually\" id=\"sk-estimator-id-1\" type=\"checkbox\" ><label for=\"sk-estimator-id-1\" class=\"sk-toggleable__label sk-toggleable__label-arrow\">MultiOutputRegressor</label><div class=\"sk-toggleable__content\"><pre>MultiOutputRegressor(estimator=XGBRegressor(base_score=None, booster=None,\n",
       "                                            callbacks=None,\n",
       "                                            colsample_bylevel=None,\n",
       "                                            colsample_bynode=None,\n",
       "                                            colsample_bytree=None,\n",
       "                                            device=&#x27;cuda&#x27;,\n",
       "                                            early_stopping_rounds=None,\n",
       "                                            enable_categorical=False,\n",
       "                                            eval_metric=None,\n",
       "                                            feature_types=None, gamma=None,\n",
       "                                            grow_policy=None,\n",
       "                                            importance_type=None,\n",
       "                                            interaction_constraints=None,\n",
       "                                            learning_rate=None, max_bin=None,\n",
       "                                            max_cat_threshold=None,\n",
       "                                            max_cat_to_onehot=None,\n",
       "                                            max_delta_step=None, max_depth=2,\n",
       "                                            max_leaves=None,\n",
       "                                            min_child_weight=None, missing=nan,\n",
       "                                            monotone_constraints=None,\n",
       "                                            multi_strategy=None,\n",
       "                                            n_estimators=1024, n_jobs=None,\n",
       "                                            num_parallel_tree=None,\n",
       "                                            random_state=None, ...),\n",
       "                     n_jobs=4)</pre></div></div></div><div class=\"sk-parallel\"><div class=\"sk-parallel-item\"><div class=\"sk-item\"><div class=\"sk-label-container\"><div class=\"sk-label sk-toggleable\"><input class=\"sk-toggleable__control sk-hidden--visually\" id=\"sk-estimator-id-2\" type=\"checkbox\" ><label for=\"sk-estimator-id-2\" class=\"sk-toggleable__label sk-toggleable__label-arrow\">estimator: XGBRegressor</label><div class=\"sk-toggleable__content\"><pre>XGBRegressor(base_score=None, booster=None, callbacks=None,\n",
       "             colsample_bylevel=None, colsample_bynode=None,\n",
       "             colsample_bytree=None, device=&#x27;cuda&#x27;, early_stopping_rounds=None,\n",
       "             enable_categorical=False, eval_metric=None, feature_types=None,\n",
       "             gamma=None, grow_policy=None, importance_type=None,\n",
       "             interaction_constraints=None, learning_rate=None, max_bin=None,\n",
       "             max_cat_threshold=None, max_cat_to_onehot=None,\n",
       "             max_delta_step=None, max_depth=2, max_leaves=None,\n",
       "             min_child_weight=None, missing=nan, monotone_constraints=None,\n",
       "             multi_strategy=None, n_estimators=1024, n_jobs=None,\n",
       "             num_parallel_tree=None, random_state=None, ...)</pre></div></div></div><div class=\"sk-serial\"><div class=\"sk-item\"><div class=\"sk-estimator sk-toggleable\"><input class=\"sk-toggleable__control sk-hidden--visually\" id=\"sk-estimator-id-3\" type=\"checkbox\" ><label for=\"sk-estimator-id-3\" class=\"sk-toggleable__label sk-toggleable__label-arrow\">XGBRegressor</label><div class=\"sk-toggleable__content\"><pre>XGBRegressor(base_score=None, booster=None, callbacks=None,\n",
       "             colsample_bylevel=None, colsample_bynode=None,\n",
       "             colsample_bytree=None, device=&#x27;cuda&#x27;, early_stopping_rounds=None,\n",
       "             enable_categorical=False, eval_metric=None, feature_types=None,\n",
       "             gamma=None, grow_policy=None, importance_type=None,\n",
       "             interaction_constraints=None, learning_rate=None, max_bin=None,\n",
       "             max_cat_threshold=None, max_cat_to_onehot=None,\n",
       "             max_delta_step=None, max_depth=2, max_leaves=None,\n",
       "             min_child_weight=None, missing=nan, monotone_constraints=None,\n",
       "             multi_strategy=None, n_estimators=1024, n_jobs=None,\n",
       "             num_parallel_tree=None, random_state=None, ...)</pre></div></div></div></div></div></div></div></div></div></div>"
      ],
      "text/plain": [
       "MultiOutputRegressor(estimator=XGBRegressor(base_score=None, booster=None,\n",
       "                                            callbacks=None,\n",
       "                                            colsample_bylevel=None,\n",
       "                                            colsample_bynode=None,\n",
       "                                            colsample_bytree=None,\n",
       "                                            device='cuda',\n",
       "                                            early_stopping_rounds=None,\n",
       "                                            enable_categorical=False,\n",
       "                                            eval_metric=None,\n",
       "                                            feature_types=None, gamma=None,\n",
       "                                            grow_policy=None,\n",
       "                                            importance_type=None,\n",
       "                                            interaction_constraints=None,\n",
       "                                            learning_rate=None, max_bin=None,\n",
       "                                            max_cat_threshold=None,\n",
       "                                            max_cat_to_onehot=None,\n",
       "                                            max_delta_step=None, max_depth=2,\n",
       "                                            max_leaves=None,\n",
       "                                            min_child_weight=None, missing=nan,\n",
       "                                            monotone_constraints=None,\n",
       "                                            multi_strategy=None,\n",
       "                                            n_estimators=1024, n_jobs=None,\n",
       "                                            num_parallel_tree=None,\n",
       "                                            random_state=None, ...),\n",
       "                     n_jobs=4)"
      ]
     },
     "execution_count": 16,
     "metadata": {},
     "output_type": "execute_result"
    }
   ],
   "source": [
    "%%time\n",
    "multi_xgb_regression.fit(X_train, Y_train)"
   ]
  },
  {
   "cell_type": "code",
   "execution_count": null,
   "id": "b1dccf51",
   "metadata": {},
   "outputs": [],
   "source": [
    "for i in range(len(model.estimators_)):\n",
    "    model.estimators_[i].set_params(device='cpu')"
   ]
  },
  {
   "cell_type": "code",
   "execution_count": 18,
   "id": "aa836902",
   "metadata": {},
   "outputs": [
    {
     "data": {
      "text/plain": [
       "1.8046976230410319"
      ]
     },
     "execution_count": 18,
     "metadata": {},
     "output_type": "execute_result"
    }
   ],
   "source": [
    "mae(Y_train, multi_xgb_regression.predict(X_train))"
   ]
  },
  {
   "cell_type": "code",
   "execution_count": 19,
   "id": "55c5f9b0",
   "metadata": {},
   "outputs": [
    {
     "data": {
      "text/plain": [
       "1.9751526950779608"
      ]
     },
     "execution_count": 19,
     "metadata": {},
     "output_type": "execute_result"
    }
   ],
   "source": [
    "mae(Y_test, multi_xgb_regression.predict(X_test))"
   ]
  },
  {
   "cell_type": "code",
   "execution_count": 20,
   "id": "bf457177",
   "metadata": {},
   "outputs": [
    {
     "data": {
      "text/plain": [
       "<AxesSubplot:>"
      ]
     },
     "execution_count": 20,
     "metadata": {},
     "output_type": "execute_result"
    },
    {
     "data": {
      "image/png": "[encoded data removed]",
      "text/plain": [
       "<Figure size 2000x2000 with 1 Axes>"
      ]
     },
     "metadata": {},
     "output_type": "display_data"
    }
   ],
   "source": [
    "feature_imp = list(zip(*reversed(sorted(list(zip(multi_xgb_regression.estimators_[4].feature_importances_, X_train.columns))))))\n",
    "sns.set(rc={'figure.figsize': (20, 20)})\n",
    "sns.barplot(x=list(feature_imp[0])[:20], y=list(feature_imp[1])[:20])"
   ]
  },
  {
   "cell_type": "markdown",
   "id": "e3d3c6cb",
   "metadata": {},
   "source": [
    "### LinearRegression"
   ]
  },
  {
   "cell_type": "code",
   "execution_count": 3,
   "id": "d3e5bc78",
   "metadata": {},
   "outputs": [],
   "source": [
    "standard_scaler = StandardScaler()\n",
    "X_train_scaled = standard_scaler.fit_transform(X_train)\n",
    "X_test_scaled = standard_scaler.transform(X_test)"
   ]
  },
  {
   "cell_type": "code",
   "execution_count": 22,
   "id": "ea7db8f0",
   "metadata": {},
   "outputs": [],
   "source": [
    "multi_linear_regression = MultiOutputRegressor(LinearRegression(n_jobs=4), n_jobs=4)"
   ]
  },
  {
   "cell_type": "code",
   "execution_count": 34,
   "id": "bc133967",
   "metadata": {},
   "outputs": [
    {
     "name": "stdout",
     "output_type": "stream",
     "text": [
      "CPU times: total: 4.5 s\n",
      "Wall time: 2min 1s\n"
     ]
    },
    {
     "data": {
      "text/html": [
       "<style>#sk-container-id-4 {color: black;}#sk-container-id-4 pre{padding: 0;}#sk-container-id-4 div.sk-toggleable {background-color: white;}#sk-container-id-4 label.sk-toggleable__label {cursor: pointer;display: block;width: 100%;margin-bottom: 0;padding: 0.3em;box-sizing: border-box;text-align: center;}#sk-container-id-4 label.sk-toggleable__label-arrow:before {content: \"▸\";float: left;margin-right: 0.25em;color: #696969;}#sk-container-id-4 label.sk-toggleable__label-arrow:hover:before {color: black;}#sk-container-id-4 div.sk-estimator:hover label.sk-toggleable__label-arrow:before {color: black;}#sk-container-id-4 div.sk-toggleable__content {max-height: 0;max-width: 0;overflow: hidden;text-align: left;background-color: #f0f8ff;}#sk-container-id-4 div.sk-toggleable__content pre {margin: 0.2em;color: black;border-radius: 0.25em;background-color: #f0f8ff;}#sk-container-id-4 input.sk-toggleable__control:checked~div.sk-toggleable__content {max-height: 200px;max-width: 100%;overflow: auto;}#sk-container-id-4 input.sk-toggleable__control:checked~label.sk-toggleable__label-arrow:before {content: \"▾\";}#sk-container-id-4 div.sk-estimator input.sk-toggleable__control:checked~label.sk-toggleable__label {background-color: #d4ebff;}#sk-container-id-4 div.sk-label input.sk-toggleable__control:checked~label.sk-toggleable__label {background-color: #d4ebff;}#sk-container-id-4 input.sk-hidden--visually {border: 0;clip: rect(1px 1px 1px 1px);clip: rect(1px, 1px, 1px, 1px);height: 1px;margin: -1px;overflow: hidden;padding: 0;position: absolute;width: 1px;}#sk-container-id-4 div.sk-estimator {font-family: monospace;background-color: #f0f8ff;border: 1px dotted black;border-radius: 0.25em;box-sizing: border-box;margin-bottom: 0.5em;}#sk-container-id-4 div.sk-estimator:hover {background-color: #d4ebff;}#sk-container-id-4 div.sk-parallel-item::after {content: \"\";width: 100%;border-bottom: 1px solid gray;flex-grow: 1;}#sk-container-id-4 div.sk-label:hover label.sk-toggleable__label {background-color: #d4ebff;}#sk-container-id-4 div.sk-serial::before {content: \"\";position: absolute;border-left: 1px solid gray;box-sizing: border-box;top: 0;bottom: 0;left: 50%;z-index: 0;}#sk-container-id-4 div.sk-serial {display: flex;flex-direction: column;align-items: center;background-color: white;padding-right: 0.2em;padding-left: 0.2em;position: relative;}#sk-container-id-4 div.sk-item {position: relative;z-index: 1;}#sk-container-id-4 div.sk-parallel {display: flex;align-items: stretch;justify-content: center;background-color: white;position: relative;}#sk-container-id-4 div.sk-item::before, #sk-container-id-4 div.sk-parallel-item::before {content: \"\";position: absolute;border-left: 1px solid gray;box-sizing: border-box;top: 0;bottom: 0;left: 50%;z-index: -1;}#sk-container-id-4 div.sk-parallel-item {display: flex;flex-direction: column;z-index: 1;position: relative;background-color: white;}#sk-container-id-4 div.sk-parallel-item:first-child::after {align-self: flex-end;width: 50%;}#sk-container-id-4 div.sk-parallel-item:last-child::after {align-self: flex-start;width: 50%;}#sk-container-id-4 div.sk-parallel-item:only-child::after {width: 0;}#sk-container-id-4 div.sk-dashed-wrapped {border: 1px dashed gray;margin: 0 0.4em 0.5em 0.4em;box-sizing: border-box;padding-bottom: 0.4em;background-color: white;}#sk-container-id-4 div.sk-label label {font-family: monospace;font-weight: bold;display: inline-block;line-height: 1.2em;}#sk-container-id-4 div.sk-label-container {text-align: center;}#sk-container-id-4 div.sk-container {/* jupyter's `normalize.less` sets `[hidden] { display: none; }` but bootstrap.min.css set `[hidden] { display: none !important; }` so we also need the `!important` here to be able to override the default hidden behavior on the sphinx rendered scikit-learn.org. See: https://github.com/scikit-learn/scikit-learn/issues/21755 */display: inline-block !important;position: relative;}#sk-container-id-4 div.sk-text-repr-fallback {display: none;}</style><div id=\"sk-container-id-4\" class=\"sk-top-container\"><div class=\"sk-text-repr-fallback\"><pre>MultiOutputRegressor(estimator=LinearRegression(n_jobs=4), n_jobs=4)</pre><b>In a Jupyter environment, please rerun this cell to show the HTML representation or trust the notebook. <br />On GitHub, the HTML representation is unable to render, please try loading this page with nbviewer.org.</b></div><div class=\"sk-container\" hidden><div class=\"sk-item sk-dashed-wrapped\"><div class=\"sk-label-container\"><div class=\"sk-label sk-toggleable\"><input class=\"sk-toggleable__control sk-hidden--visually\" id=\"sk-estimator-id-10\" type=\"checkbox\" ><label for=\"sk-estimator-id-10\" class=\"sk-toggleable__label sk-toggleable__label-arrow\">MultiOutputRegressor</label><div class=\"sk-toggleable__content\"><pre>MultiOutputRegressor(estimator=LinearRegression(n_jobs=4), n_jobs=4)</pre></div></div></div><div class=\"sk-parallel\"><div class=\"sk-parallel-item\"><div class=\"sk-item\"><div class=\"sk-label-container\"><div class=\"sk-label sk-toggleable\"><input class=\"sk-toggleable__control sk-hidden--visually\" id=\"sk-estimator-id-11\" type=\"checkbox\" ><label for=\"sk-estimator-id-11\" class=\"sk-toggleable__label sk-toggleable__label-arrow\">estimator: LinearRegression</label><div class=\"sk-toggleable__content\"><pre>LinearRegression(n_jobs=4)</pre></div></div></div><div class=\"sk-serial\"><div class=\"sk-item\"><div class=\"sk-estimator sk-toggleable\"><input class=\"sk-toggleable__control sk-hidden--visually\" id=\"sk-estimator-id-12\" type=\"checkbox\" ><label for=\"sk-estimator-id-12\" class=\"sk-toggleable__label sk-toggleable__label-arrow\">LinearRegression</label><div class=\"sk-toggleable__content\"><pre>LinearRegression(n_jobs=4)</pre></div></div></div></div></div></div></div></div></div></div>"
      ],
      "text/plain": [
       "MultiOutputRegressor(estimator=LinearRegression(n_jobs=4), n_jobs=4)"
      ]
     },
     "execution_count": 34,
     "metadata": {},
     "output_type": "execute_result"
    }
   ],
   "source": [
    "%%time\n",
    "multi_linear_regression.fit(X_train_scaled, Y_train)"
   ]
  },
  {
   "cell_type": "code",
   "execution_count": 35,
   "id": "5dae37f1",
   "metadata": {},
   "outputs": [
    {
     "data": {
      "text/plain": [
       "2.042526304884102"
      ]
     },
     "execution_count": 35,
     "metadata": {},
     "output_type": "execute_result"
    }
   ],
   "source": [
    "mae(Y_train, multi_linear_regression.predict(X_train_scaled))"
   ]
  },
  {
   "cell_type": "code",
   "execution_count": 36,
   "id": "293214ce",
   "metadata": {},
   "outputs": [
    {
     "data": {
      "text/plain": [
       "2.1370528884982347"
      ]
     },
     "execution_count": 36,
     "metadata": {},
     "output_type": "execute_result"
    }
   ],
   "source": [
    "mae(Y_test, multi_linear_regression.predict(X_test_scaled))"
   ]
  },
  {
   "cell_type": "markdown",
   "id": "5922a0cb",
   "metadata": {},
   "source": [
    "### Neural Networks"
   ]
  },
  {
   "cell_type": "code",
   "execution_count": 4,
   "id": "80682406",
   "metadata": {},
   "outputs": [],
   "source": [
    "neural_net = keras.Sequential([\n",
    "    keras.layers.InputLayer(input_shape=(X_train.shape[1],)),\n",
    "    keras.layers.Dense(360, activation='relu'),\n",
    "    keras.layers.BatchNormalization(),\n",
    "    keras.layers.Dense(360, activation='relu'),\n",
    "    keras.layers.BatchNormalization(),\n",
    "    keras.layers.Dense(256, activation='relu'),\n",
    "    keras.layers.BatchNormalization(),\n",
    "    keras.layers.Dense(256, activation='relu'),\n",
    "    keras.layers.BatchNormalization(),\n",
    "    keras.layers.Dense(128, activation='relu'),\n",
    "    keras.layers.BatchNormalization(),\n",
    "    keras.layers.Dense(64, activation='relu'),\n",
    "    keras.layers.BatchNormalization(),\n",
    "    keras.layers.Dense(14, activation='relu'),\n",
    "    keras.layers.BatchNormalization(),\n",
    "    keras.layers.Dense(14)\n",
    "])\n",
    "\n",
    "neural_net.compile(optimizer='Adam', \n",
    "                  loss='mean_squared_error',\n",
    "                  metrics='mean_absolute_error')"
   ]
  },
  {
   "cell_type": "code",
   "execution_count": 55,
   "id": "78c1c3b9",
   "metadata": {
    "scrolled": false
   },
   "outputs": [
    {
     "name": "stdout",
     "output_type": "stream",
     "text": [
      "Epoch 1/100\n",
      "10135/10135 [==============================] - 185s 18ms/step - loss: 5.8637 - mean_absolute_error: 1.8920 - val_loss: 6.6234 - val_mean_absolute_error: 2.0097\n",
      "Epoch 2/100\n",
      "10135/10135 [==============================] - 186s 18ms/step - loss: 5.8535 - mean_absolute_error: 1.8905 - val_loss: 6.6766 - val_mean_absolute_error: 2.0168\n",
      "Epoch 3/100\n",
      "10135/10135 [==============================] - 186s 18ms/step - loss: 5.8455 - mean_absolute_error: 1.8887 - val_loss: 6.6911 - val_mean_absolute_error: 2.0209\n",
      "Epoch 4/100\n",
      "10135/10135 [==============================] - 185s 18ms/step - loss: 5.8338 - mean_absolute_error: 1.8873 - val_loss: 6.6576 - val_mean_absolute_error: 2.0201\n",
      "Epoch 5/100\n",
      "10135/10135 [==============================] - 187s 18ms/step - loss: 5.8287 - mean_absolute_error: 1.8864 - val_loss: 6.6811 - val_mean_absolute_error: 2.0228\n",
      "Epoch 6/100\n",
      "10135/10135 [==============================] - 184s 18ms/step - loss: 5.8180 - mean_absolute_error: 1.8847 - val_loss: 6.6587 - val_mean_absolute_error: 2.0159\n",
      "Epoch 7/100\n",
      "10135/10135 [==============================] - 188s 19ms/step - loss: 5.8169 - mean_absolute_error: 1.8842 - val_loss: 6.6855 - val_mean_absolute_error: 2.0210\n",
      "Epoch 8/100\n",
      "10135/10135 [==============================] - 188s 19ms/step - loss: 5.8061 - mean_absolute_error: 1.8826 - val_loss: 6.6685 - val_mean_absolute_error: 2.0227\n",
      "Epoch 9/100\n",
      "10135/10135 [==============================] - 184s 18ms/step - loss: 5.7957 - mean_absolute_error: 1.8807 - val_loss: 6.7076 - val_mean_absolute_error: 2.0211\n",
      "Epoch 10/100\n",
      "10135/10135 [==============================] - 186s 18ms/step - loss: 5.7921 - mean_absolute_error: 1.8804 - val_loss: 6.7207 - val_mean_absolute_error: 2.0178\n",
      "Epoch 11/100\n",
      "10135/10135 [==============================] - 185s 18ms/step - loss: 5.7854 - mean_absolute_error: 1.8793 - val_loss: 6.7103 - val_mean_absolute_error: 2.0210\n",
      "CPU times: total: 41min 37s\n",
      "Wall time: 34min 5s\n"
     ]
    }
   ],
   "source": [
    "%%time\n",
    "with tf.device('gpu'):\n",
    "    history = neural_net.fit(X_train_scaled, Y_train, epochs=100,\n",
    "                             validation_data=(X_test_scaled, Y_test), callbacks=keras.callbacks.EarlyStopping(patience=10))"
   ]
  },
  {
   "cell_type": "code",
   "execution_count": 56,
   "id": "2c73111b",
   "metadata": {},
   "outputs": [
    {
     "name": "stdout",
     "output_type": "stream",
     "text": [
      "10135/10135 [==============================] - 48s 5ms/step\n"
     ]
    },
    {
     "data": {
      "text/plain": [
       "1.7760481012661127"
      ]
     },
     "execution_count": 56,
     "metadata": {},
     "output_type": "execute_result"
    }
   ],
   "source": [
    "mae(Y_train, neural_net.predict(X_train_scaled))"
   ]
  },
  {
   "cell_type": "code",
   "execution_count": 9,
   "id": "1b9b3dea",
   "metadata": {},
   "outputs": [
    {
     "name": "stdout",
     "output_type": "stream",
     "text": [
      "23/23 [==============================] - 5s 6ms/step\n"
     ]
    },
    {
     "data": {
      "text/plain": [
       "2.020976364528392"
      ]
     },
     "execution_count": 9,
     "metadata": {},
     "output_type": "execute_result"
    }
   ],
   "source": [
    "mae(Y_test, neural_net.predict(X_test_scaled))"
   ]
  },
  {
   "cell_type": "code",
   "execution_count": 58,
   "id": "407bcd00",
   "metadata": {},
   "outputs": [],
   "source": [
    "neural_net.save('kaioken_net.keras')"
   ]
  },
  {
   "cell_type": "markdown",
   "id": "b64e8eb5",
   "metadata": {},
   "source": [
    "# --------------------------------"
   ]
  },
  {
   "cell_type": "code",
   "execution_count": 5,
   "id": "636a4b33",
   "metadata": {},
   "outputs": [],
   "source": [
    "multi_neural_net = []\n",
    "for i in range(14):\n",
    "    nn = keras.Sequential([\n",
    "    keras.layers.InputLayer(input_shape=(X_train.shape[1],)),\n",
    "    keras.layers.Dense(360, activation='relu'),\n",
    "    keras.layers.BatchNormalization(),\n",
    "    keras.layers.Dense(360, activation='relu'),\n",
    "    keras.layers.BatchNormalization(),\n",
    "    keras.layers.Dense(256, activation='relu'),\n",
    "    keras.layers.BatchNormalization(),\n",
    "    keras.layers.Dense(256, activation='relu'),\n",
    "    keras.layers.BatchNormalization(),\n",
    "    keras.layers.Dense(128, activation='relu'),\n",
    "    keras.layers.BatchNormalization(),\n",
    "    keras.layers.Dense(64, activation='relu'),\n",
    "    keras.layers.BatchNormalization(),\n",
    "    keras.layers.Dense(14, activation='relu'),\n",
    "    keras.layers.BatchNormalization(),\n",
    "    keras.layers.Dense(1)\n",
    "    ])\n",
    "\n",
    "    nn.compile(optimizer='Adam', \n",
    "                  loss='mean_squared_error',\n",
    "                  metrics='mean_absolute_error')\n",
    "    multi_neural_net.append(nn)"
   ]
  },
  {
   "cell_type": "code",
   "execution_count": 6,
   "id": "4b65df60",
   "metadata": {},
   "outputs": [],
   "source": [
    "def train(model, X, y, epochs):\n",
    "    with tf.device('gpu'):\n",
    "        model.fit(X, y, epochs=epochs)"
   ]
  },
  {
   "cell_type": "code",
   "execution_count": 7,
   "id": "13b0f011",
   "metadata": {},
   "outputs": [],
   "source": [
    "import threading"
   ]
  },
  {
   "cell_type": "code",
   "execution_count": 8,
   "id": "332722a4",
   "metadata": {},
   "outputs": [],
   "source": [
    "threads = []\n",
    "epochs = 10\n",
    "for i in range(14):\n",
    "    thread = threading.Thread(target=train, args=(multi_neural_net[i], X_train_scaled, Y_train[f'league_rank_{i+1}'], epochs))\n",
    "    threads.append(thread)"
   ]
  },
  {
   "cell_type": "code",
   "execution_count": 9,
   "id": "18212b41",
   "metadata": {
    "scrolled": true
   },
   "outputs": [
    {
     "name": "stdout",
     "output_type": "stream",
     "text": [
      "Epoch 1/10\n",
      "Epoch 1/10\n",
      "10135/10135 [==============================] - 246s 24ms/step - loss: 8.5547 - mean_absolute_error: 2.2523\n",
      "Epoch 2/10\n",
      "10135/10135 [==============================] - 248s 24ms/step - loss: 8.6012 - mean_absolute_error: 2.2569\n",
      "Epoch 2/10\n",
      "10135/10135 [==============================] - 242s 24ms/step - loss: 6.6314 - mean_absolute_error: 2.0269\n",
      "Epoch 3/10\n",
      "10135/10135 [==============================] - 244s 24ms/step - loss: 6.6362 - mean_absolute_error: 2.0288\n",
      "Epoch 3/10\n",
      "10135/10135 [==============================] - 262s 26ms/step - loss: 6.4563 - mean_absolute_error: 1.9971\n",
      "Epoch 4/10\n",
      "10135/10135 [==============================] - 266s 26ms/step - loss: 6.4414 - mean_absolute_error: 1.9942\n",
      "Epoch 4/10\n",
      "10135/10135 [==============================] - 255s 25ms/step - loss: 6.3103 - mean_absolute_error: 1.9706\n",
      " 9797/10135 [===========================>..] - ETA: 8s - loss: 6.3108 - mean_absolute_error: 1.9691Epoch 5/10\n",
      "10135/10135 [==============================] - 255s 25ms/step - loss: 6.3087 - mean_absolute_error: 1.9689\n",
      "Epoch 5/10\n",
      "10135/10135 [==============================] - 245s 24ms/step - loss: 6.1727 - mean_absolute_error: 1.9476\n",
      "Epoch 6/10\n",
      "10135/10135 [==============================] - 248s 24ms/step - loss: 6.1818 - mean_absolute_error: 1.9463\n",
      "Epoch 6/10\n",
      "10135/10135 [==============================] - 266s 26ms/step - loss: 6.0514 - mean_absolute_error: 1.9225\n",
      "Epoch 7/10\n",
      "10135/10135 [==============================] - 267s 26ms/step - loss: 6.0513 - mean_absolute_error: 1.9227\n",
      "Epoch 7/10\n",
      "10135/10135 [==============================] - 252s 25ms/step - loss: 5.9386 - mean_absolute_error: 1.9036\n",
      "Epoch 8/10\n",
      "10135/10135 [==============================] - 254s 25ms/step - loss: 5.9416 - mean_absolute_error: 1.9034\n",
      "Epoch 8/10\n",
      "10135/10135 [==============================] - 241s 24ms/step - loss: 5.8177 - mean_absolute_error: 1.8825\n",
      "Epoch 9/10\n",
      "10135/10135 [==============================] - 242s 24ms/step - loss: 5.8157 - mean_absolute_error: 1.8823\n",
      "Epoch 9/10\n",
      "10135/10135 [==============================] - 241s 24ms/step - loss: 5.6886 - mean_absolute_error: 1.8605\n",
      "Epoch 10/10\n",
      "10135/10135 [==============================] - 244s 24ms/step - loss: 5.7140 - mean_absolute_error: 1.8627\n",
      "Epoch 10/10\n",
      "10135/10135 [==============================] - 247s 24ms/step - loss: 5.5898 - mean_absolute_error: 1.8444\n",
      "10135/10135 [==============================] - 243s 24ms/step - loss: 5.5987 - mean_absolute_error: 1.8433\n"
     ]
    }
   ],
   "source": [
    "threads[0].start()\n",
    "threads[1].start()\n",
    "threads[0].join()\n",
    "threads[1].join()"
   ]
  },
  {
   "cell_type": "code",
   "execution_count": 10,
   "id": "f3368a3f",
   "metadata": {
    "scrolled": true
   },
   "outputs": [
    {
     "name": "stdout",
     "output_type": "stream",
     "text": [
      "Epoch 1/10\n",
      "Epoch 1/10\n",
      "10135/10135 [==============================] - 243s 24ms/step - loss: 8.5847 - mean_absolute_error: 2.2561\n",
      "Epoch 2/10\n",
      "10135/10135 [==============================] - 243s 24ms/step - loss: 8.5527 - mean_absolute_error: 2.2514\n",
      "Epoch 2/10\n",
      "10135/10135 [==============================] - 235s 23ms/step - loss: 6.6232 - mean_absolute_error: 2.0270\n",
      "Epoch 3/10\n",
      "10135/10135 [==============================] - 235s 23ms/step - loss: 6.6425 - mean_absolute_error: 2.0304\n",
      "Epoch 3/10\n",
      "10135/10135 [==============================] - 234s 23ms/step - loss: 6.4637 - mean_absolute_error: 2.0009\n",
      "Epoch 4/10\n",
      "10135/10135 [==============================] - 234s 23ms/step - loss: 6.4568 - mean_absolute_error: 1.9969\n",
      "Epoch 4/10\n",
      "10135/10135 [==============================] - 234s 23ms/step - loss: 6.3165 - mean_absolute_error: 1.9740\n",
      "10114/10135 [============================>.] - ETA: 0s - loss: 6.3340 - mean_absolute_error: 1.9740Epoch 5/10\n",
      "10135/10135 [==============================] - 235s 23ms/step - loss: 6.3322 - mean_absolute_error: 1.9737\n",
      "Epoch 5/10\n",
      "10135/10135 [==============================] - 235s 23ms/step - loss: 6.2125 - mean_absolute_error: 1.9547\n",
      "Epoch 6/10\n",
      "10135/10135 [==============================] - 234s 23ms/step - loss: 6.1957 - mean_absolute_error: 1.9497\n",
      "Epoch 6/10\n",
      "10135/10135 [==============================] - 235s 23ms/step - loss: 6.0855 - mean_absolute_error: 1.9325\n",
      "Epoch 7/10\n",
      "10135/10135 [==============================] - 235s 23ms/step - loss: 6.0766 - mean_absolute_error: 1.9294\n",
      "Epoch 7/10\n",
      "10135/10135 [==============================] - 239s 24ms/step - loss: 5.9480 - mean_absolute_error: 1.9061\n",
      "Epoch 8/10\n",
      "10135/10135 [==============================] - 240s 24ms/step - loss: 5.9795 - mean_absolute_error: 1.9136\n",
      "Epoch 8/10\n",
      "10135/10135 [==============================] - 241s 24ms/step - loss: 5.8731 - mean_absolute_error: 1.8937\n",
      "Epoch 9/10\n",
      "10135/10135 [==============================] - 241s 24ms/step - loss: 5.8272 - mean_absolute_error: 1.8842\n",
      "Epoch 9/10\n",
      "10135/10135 [==============================] - 246s 24ms/step - loss: 5.7498 - mean_absolute_error: 1.8699\n",
      "10135/10135 [==============================] - 246s 24ms/step - loss: 5.7050 - mean_absolute_error: 1.8632\n",
      "Epoch 10/10\n",
      "Epoch 10/10\n",
      "10135/10135 [==============================] - 258s 25ms/step - loss: 5.6490 - mean_absolute_error: 1.8533\n",
      "10135/10135 [==============================] - 258s 25ms/step - loss: 5.5998 - mean_absolute_error: 1.8446\n",
      "Epoch 1/10\n",
      "Epoch 1/10\n",
      "10135/10135 [==============================] - 249s 24ms/step - loss: 8.6079 - mean_absolute_error: 2.2534\n",
      "Epoch 2/10\n",
      "10135/10135 [==============================] - 250s 24ms/step - loss: 8.5453 - mean_absolute_error: 2.2539\n",
      "Epoch 2/10\n",
      "10135/10135 [==============================] - 239s 24ms/step - loss: 6.6001 - mean_absolute_error: 2.0229\n",
      "Epoch 3/10\n",
      "10135/10135 [==============================] - 240s 24ms/step - loss: 6.6265 - mean_absolute_error: 2.0289\n",
      "Epoch 3/10\n",
      "10135/10135 [==============================] - 249s 25ms/step - loss: 6.4085 - mean_absolute_error: 1.9888\n",
      "Epoch 4/10\n",
      "10135/10135 [==============================] - 250s 25ms/step - loss: 6.4476 - mean_absolute_error: 1.9951\n",
      "Epoch 4/10\n",
      "10135/10135 [==============================] - 258s 25ms/step - loss: 6.2793 - mean_absolute_error: 1.9653\n",
      "Epoch 5/10\n",
      "10135/10135 [==============================] - 258s 25ms/step - loss: 6.3309 - mean_absolute_error: 1.9746\n",
      "Epoch 5/10\n",
      "10135/10135 [==============================] - 242s 24ms/step - loss: 6.1560 - mean_absolute_error: 1.9433\n",
      "Epoch 6/10\n",
      "10135/10135 [==============================] - 243s 24ms/step - loss: 6.2120 - mean_absolute_error: 1.9539\n",
      "Epoch 6/10\n",
      "10135/10135 [==============================] - 243s 24ms/step - loss: 6.0250 - mean_absolute_error: 1.9198\n",
      "Epoch 7/10\n",
      "10135/10135 [==============================] - 245s 24ms/step - loss: 6.0940 - mean_absolute_error: 1.9341\n",
      "Epoch 7/10\n",
      "10135/10135 [==============================] - 261s 26ms/step - loss: 5.9052 - mean_absolute_error: 1.8984\n",
      "Epoch 8/10\n",
      "10135/10135 [==============================] - 261s 26ms/step - loss: 5.9830 - mean_absolute_error: 1.9138\n",
      "Epoch 8/10\n",
      "10135/10135 [==============================] - 243s 24ms/step - loss: 5.7927 - mean_absolute_error: 1.8778\n",
      "Epoch 9/10\n",
      "10135/10135 [==============================] - 244s 24ms/step - loss: 5.8669 - mean_absolute_error: 1.8925\n",
      "Epoch 9/10\n",
      "10135/10135 [==============================] - 242s 24ms/step - loss: 5.6719 - mean_absolute_error: 1.8545\n",
      "Epoch 10/10\n",
      "10135/10135 [==============================] - 243s 24ms/step - loss: 5.7670 - mean_absolute_error: 1.8747\n",
      "Epoch 10/10\n",
      "10135/10135 [==============================] - 244s 24ms/step - loss: 5.5732 - mean_absolute_error: 1.8389\n",
      "10135/10135 [==============================] - 242s 24ms/step - loss: 5.6427 - mean_absolute_error: 1.8534\n"
     ]
    }
   ],
   "source": [
    "threads[2].start()\n",
    "threads[3].start()\n",
    "threads[2].join()\n",
    "threads[3].join()\n",
    "threads[4].start()\n",
    "threads[5].start()\n",
    "threads[4].join()\n",
    "threads[5].join()"
   ]
  },
  {
   "cell_type": "code",
   "execution_count": 11,
   "id": "e8a49317",
   "metadata": {},
   "outputs": [
    {
     "name": "stdout",
     "output_type": "stream",
     "text": [
      "Epoch 1/10\n",
      "Epoch 1/10\n",
      "10135/10135 [==============================] - 240s 23ms/step - loss: 8.5349 - mean_absolute_error: 2.2493\n",
      "Epoch 2/10\n",
      "10135/10135 [==============================] - 242s 24ms/step - loss: 8.6020 - mean_absolute_error: 2.2559\n",
      "Epoch 2/10\n",
      "10135/10135 [==============================] - 242s 24ms/step - loss: 6.5737 - mean_absolute_error: 2.0189\n",
      "Epoch 3/10\n",
      "10135/10135 [==============================] - 244s 24ms/step - loss: 6.6514 - mean_absolute_error: 2.0288\n",
      "  133/10135 [..............................] - ETA: 3:51 - loss: 6.4239 - mean_absolute_error: 2.0001Epoch 3/10\n",
      "10135/10135 [==============================] - 238s 23ms/step - loss: 6.4055 - mean_absolute_error: 1.9906\n",
      "Epoch 4/10\n",
      "10135/10135 [==============================] - 240s 24ms/step - loss: 6.5219 - mean_absolute_error: 2.0066\n",
      "Epoch 4/10\n",
      "10135/10135 [==============================] - 236s 23ms/step - loss: 6.2655 - mean_absolute_error: 1.9655\n",
      "Epoch 5/10\n",
      "10135/10135 [==============================] - 239s 24ms/step - loss: 6.4108 - mean_absolute_error: 1.9878\n",
      "Epoch 5/10\n",
      "10135/10135 [==============================] - 239s 24ms/step - loss: 6.1512 - mean_absolute_error: 1.9438\n",
      "Epoch 6/10\n",
      "10135/10135 [==============================] - 241s 24ms/step - loss: 6.2720 - mean_absolute_error: 1.9631\n",
      "Epoch 6/10\n",
      "10135/10135 [==============================] - 239s 24ms/step - loss: 6.0077 - mean_absolute_error: 1.9195\n",
      "Epoch 7/10\n",
      "10135/10135 [==============================] - 241s 24ms/step - loss: 6.1659 - mean_absolute_error: 1.9438\n",
      "Epoch 7/10\n",
      "10135/10135 [==============================] - 271s 27ms/step - loss: 5.8945 - mean_absolute_error: 1.8967\n",
      "Epoch 8/10\n",
      "10135/10135 [==============================] - 274s 27ms/step - loss: 6.0385 - mean_absolute_error: 1.9217\n",
      "Epoch 8/10\n",
      "10135/10135 [==============================] - 318s 31ms/step - loss: 5.7976 - mean_absolute_error: 1.8794\n",
      "Epoch 9/10\n",
      "10135/10135 [==============================] - 317s 31ms/step - loss: 5.9486 - mean_absolute_error: 1.9057\n",
      "Epoch 9/10\n",
      "10135/10135 [==============================] - 316s 31ms/step - loss: 5.6920 - mean_absolute_error: 1.8617\n",
      "Epoch 10/10\n",
      "10135/10135 [==============================] - 320s 32ms/step - loss: 5.8384 - mean_absolute_error: 1.8848\n",
      "Epoch 10/10\n",
      "10135/10135 [==============================] - 344s 34ms/step - loss: 5.5755 - mean_absolute_error: 1.8418\n",
      "10135/10135 [==============================] - 335s 33ms/step - loss: 5.7246 - mean_absolute_error: 1.8652\n"
     ]
    },
    {
     "name": "stderr",
     "output_type": "stream",
     "text": [
      "Exception in thread Thread-14:\n",
      "Traceback (most recent call last):\n",
      "  File \"D:\\ProgramFiles\\anaconda3\\lib\\threading.py\", line 980, in _bootstrap_inner\n",
      "    self.run()\n",
      "  File \"D:\\ProgramFiles\\anaconda3\\lib\\threading.py\", line 917, in run\n",
      "    self._target(*self._args, **self._kwargs)\n",
      "  File \"C:\\Users\\ognje\\AppData\\Local\\Temp\\ipykernel_3012\\448147911.py\", line 3, in train\n",
      "  File \"C:\\Users\\ognje\\AppData\\Roaming\\Python\\Python39\\site-packages\\keras\\utils\\traceback_utils.py\", line 70, in error_handler\n",
      "    raise e.with_traceback(filtered_tb) from None\n",
      "  File \"D:\\ProgramFiles\\anaconda3\\lib\\site-packages\\tensorflow\\python\\framework\\constant_op.py\", line 102, in convert_to_eager_tensor\n",
      "    return ops.EagerTensor(value, ctx.device_name, dtype)\n",
      "tensorflow.python.framework.errors_impl.InternalError: Failed copying input tensor from /job:localhost/replica:0/task:0/device:CPU:0 to /job:localhost/replica:0/task:0/device:GPU:0 in order to run _EagerConst: Dst tensor is not initialized.\n"
     ]
    },
    {
     "name": "stdout",
     "output_type": "stream",
     "text": [
      "Epoch 1/10\n",
      "10135/10135 [==============================] - 195s 19ms/step - loss: 8.5424 - mean_absolute_error: 2.2531\n",
      "Epoch 2/10\n",
      "10135/10135 [==============================] - 191s 19ms/step - loss: 6.6434 - mean_absolute_error: 2.0309\n",
      "Epoch 3/10\n",
      "10135/10135 [==============================] - 191s 19ms/step - loss: 6.4642 - mean_absolute_error: 1.9989\n",
      "Epoch 4/10\n",
      "10135/10135 [==============================] - 193s 19ms/step - loss: 6.3429 - mean_absolute_error: 1.9772\n",
      "Epoch 5/10\n",
      "10135/10135 [==============================] - 193s 19ms/step - loss: 6.2218 - mean_absolute_error: 1.9548\n",
      "Epoch 6/10\n",
      "10135/10135 [==============================] - 191s 19ms/step - loss: 6.0949 - mean_absolute_error: 1.9335\n",
      "Epoch 7/10\n",
      "10135/10135 [==============================] - 193s 19ms/step - loss: 5.9602 - mean_absolute_error: 1.9080\n",
      "Epoch 8/10\n",
      "10135/10135 [==============================] - 195s 19ms/step - loss: 5.8609 - mean_absolute_error: 1.8911\n",
      "Epoch 9/10\n",
      "10135/10135 [==============================] - 192s 19ms/step - loss: 5.7286 - mean_absolute_error: 1.8670\n",
      "Epoch 10/10\n",
      "10135/10135 [==============================] - 195s 19ms/step - loss: 5.6219 - mean_absolute_error: 1.8486\n"
     ]
    }
   ],
   "source": [
    "threads[6].start()\n",
    "threads[7].start()\n",
    "threads[6].join()\n",
    "threads[7].join()\n",
    "threads[8].start()\n",
    "threads[9].start()\n",
    "threads[8].join()\n",
    "threads[9].join()"
   ]
  },
  {
   "cell_type": "code",
   "execution_count": 12,
   "id": "120dd88c",
   "metadata": {
    "scrolled": true
   },
   "outputs": [
    {
     "name": "stdout",
     "output_type": "stream",
     "text": [
      "Epoch 1/10\n",
      "Epoch 1/10\n",
      "10135/10135 [==============================] - 311s 30ms/step - loss: 8.5393 - mean_absolute_error: 2.2493\n",
      "10132/10135 [============================>.] - ETA: 0s - loss: 8.6152 - mean_absolute_error: 2.2538Epoch 2/10\n",
      "10135/10135 [==============================] - 311s 30ms/step - loss: 8.6145 - mean_absolute_error: 2.2538\n",
      "    3/10135 [..............................] - ETA: 4:38 - loss: 6.5820 - mean_absolute_error: 2.0284Epoch 2/10\n",
      "10135/10135 [==============================] - 265s 26ms/step - loss: 6.5915 - mean_absolute_error: 2.0207\n",
      "Epoch 3/10\n",
      "10135/10135 [==============================] - 266s 26ms/step - loss: 6.6004 - mean_absolute_error: 2.0243\n",
      "Epoch 3/10\n",
      "10135/10135 [==============================] - 236s 23ms/step - loss: 6.4231 - mean_absolute_error: 1.9913\n",
      "Epoch 4/10\n",
      "10135/10135 [==============================] - 235s 23ms/step - loss: 6.4359 - mean_absolute_error: 1.9949\n",
      "    1/10135 [..............................] - ETA: 3:53 - loss: 4.3747 - mean_absolute_error: 1.6078Epoch 4/10\n",
      "10135/10135 [==============================] - 247s 24ms/step - loss: 6.2958 - mean_absolute_error: 1.9673\n",
      "Epoch 5/10\n",
      "10135/10135 [==============================] - 247s 24ms/step - loss: 6.2922 - mean_absolute_error: 1.9692\n",
      "Epoch 5/10\n",
      "10135/10135 [==============================] - 262s 26ms/step - loss: 6.1540 - mean_absolute_error: 1.9433\n",
      "Epoch 6/10\n",
      "10135/10135 [==============================] - 263s 26ms/step - loss: 6.1778 - mean_absolute_error: 1.9495\n",
      "Epoch 6/10\n",
      "10135/10135 [==============================] - 263s 26ms/step - loss: 6.0283 - mean_absolute_error: 1.9209\n",
      "Epoch 7/10\n",
      "10135/10135 [==============================] - 263s 26ms/step - loss: 6.0406 - mean_absolute_error: 1.9243\n",
      "Epoch 7/10\n",
      "10135/10135 [==============================] - 265s 26ms/step - loss: 5.9272 - mean_absolute_error: 1.9024\n",
      "Epoch 8/10\n",
      "10135/10135 [==============================] - 265s 26ms/step - loss: 5.9264 - mean_absolute_error: 1.9040\n",
      "Epoch 8/10\n",
      "10135/10135 [==============================] - 264s 26ms/step - loss: 5.8127 - mean_absolute_error: 1.8814\n",
      "Epoch 9/10\n",
      "10135/10135 [==============================] - 264s 26ms/step - loss: 5.7987 - mean_absolute_error: 1.8814\n",
      "Epoch 9/10\n",
      "10135/10135 [==============================] - 264s 26ms/step - loss: 5.6878 - mean_absolute_error: 1.8600\n",
      "Epoch 10/10\n",
      "10135/10135 [==============================] - 264s 26ms/step - loss: 5.6727 - mean_absolute_error: 1.8602\n",
      "Epoch 10/10\n",
      "10135/10135 [==============================] - 263s 26ms/step - loss: 5.5970 - mean_absolute_error: 1.8434\n",
      "10135/10135 [==============================] - 262s 26ms/step - loss: 5.5667 - mean_absolute_error: 1.8406\n",
      "Epoch 1/10\n",
      "Epoch 1/10\n",
      "10135/10135 [==============================] - 263s 26ms/step - loss: 8.6861 - mean_absolute_error: 2.2618\n",
      "Epoch 2/10\n",
      "10135/10135 [==============================] - 264s 26ms/step - loss: 8.6401 - mean_absolute_error: 2.2586\n",
      "Epoch 2/10\n",
      "10135/10135 [==============================] - 259s 26ms/step - loss: 6.6406 - mean_absolute_error: 2.0284\n",
      "Epoch 3/10\n",
      "10135/10135 [==============================] - 261s 26ms/step - loss: 6.5975 - mean_absolute_error: 2.0243\n",
      "Epoch 3/10\n",
      "10135/10135 [==============================] - 263s 26ms/step - loss: 6.4629 - mean_absolute_error: 1.9973\n",
      "Epoch 4/10\n",
      "10135/10135 [==============================] - 264s 26ms/step - loss: 6.4327 - mean_absolute_error: 1.9922\n",
      "Epoch 4/10\n",
      "10135/10135 [==============================] - 259s 26ms/step - loss: 6.2952 - mean_absolute_error: 1.9681\n",
      "Epoch 5/10\n",
      "10135/10135 [==============================] - 261s 26ms/step - loss: 6.2902 - mean_absolute_error: 1.9683\n",
      "  197/10135 [..............................] - ETA: 4:19 - loss: 6.0815 - mean_absolute_error: 1.9244Epoch 5/10\n",
      "10135/10135 [==============================] - 261s 26ms/step - loss: 6.1644 - mean_absolute_error: 1.9451\n",
      "Epoch 6/10\n",
      "10135/10135 [==============================] - 262s 26ms/step - loss: 6.1528 - mean_absolute_error: 1.9450\n",
      "Epoch 6/10\n",
      "10135/10135 [==============================] - 262s 26ms/step - loss: 6.0305 - mean_absolute_error: 1.9192\n",
      "Epoch 7/10\n",
      "10135/10135 [==============================] - 263s 26ms/step - loss: 6.0404 - mean_absolute_error: 1.9225\n",
      "Epoch 7/10\n",
      "10135/10135 [==============================] - 262s 26ms/step - loss: 5.9216 - mean_absolute_error: 1.9000\n",
      "Epoch 8/10\n",
      "10135/10135 [==============================] - 263s 26ms/step - loss: 5.9370 - mean_absolute_error: 1.9038\n",
      "Epoch 8/10\n",
      "10135/10135 [==============================] - 253s 25ms/step - loss: 5.7893 - mean_absolute_error: 1.8765\n",
      "Epoch 9/10\n",
      "10135/10135 [==============================] - 254s 25ms/step - loss: 5.8074 - mean_absolute_error: 1.8819\n",
      "Epoch 9/10\n",
      "10135/10135 [==============================] - 254s 25ms/step - loss: 5.6516 - mean_absolute_error: 1.8532\n",
      "Epoch 10/10\n",
      "10135/10135 [==============================] - 257s 25ms/step - loss: 5.7146 - mean_absolute_error: 1.8650\n",
      "Epoch 10/10\n",
      "10135/10135 [==============================] - 265s 26ms/step - loss: 5.5344 - mean_absolute_error: 1.8323\n",
      "10135/10135 [==============================] - 261s 26ms/step - loss: 5.5887 - mean_absolute_error: 1.8415\n"
     ]
    }
   ],
   "source": [
    "threads[10].start()\n",
    "threads[11].start()\n",
    "threads[10].join()\n",
    "threads[11].join()\n",
    "threads[12].start()\n",
    "threads[13].start()\n",
    "threads[12].join()\n",
    "threads[13].join()"
   ]
  },
  {
   "cell_type": "code",
   "execution_count": 27,
   "id": "8582cc05",
   "metadata": {},
   "outputs": [
    {
     "name": "stdout",
     "output_type": "stream",
     "text": [
      "23/23 [==============================] - 0s 6ms/step\n",
      "(708, 1)\n",
      "23/23 [==============================] - 0s 6ms/step\n",
      "23/23 [==============================] - 0s 6ms/step\n",
      "(708, 1)\n",
      "23/23 [==============================] - 0s 6ms/step\n",
      "23/23 [==============================] - 0s 6ms/step\n",
      "(708, 1)\n",
      "23/23 [==============================] - 0s 6ms/step\n",
      "23/23 [==============================] - 0s 6ms/step\n",
      "(708, 1)\n",
      "23/23 [==============================] - 0s 6ms/step\n",
      "23/23 [==============================] - 0s 6ms/step\n",
      "(708, 1)\n",
      "23/23 [==============================] - 0s 6ms/step\n",
      "23/23 [==============================] - 0s 6ms/step\n",
      "(708, 1)\n",
      "23/23 [==============================] - 0s 6ms/step\n",
      "23/23 [==============================] - 0s 7ms/step\n",
      "(708, 1)\n",
      "23/23 [==============================] - 0s 6ms/step\n",
      "23/23 [==============================] - 0s 6ms/step\n",
      "(708, 1)\n",
      "23/23 [==============================] - 0s 6ms/step\n",
      "23/23 [==============================] - 0s 6ms/step\n",
      "(708, 1)\n",
      "23/23 [==============================] - 0s 6ms/step\n",
      "23/23 [==============================] - 0s 6ms/step\n",
      "(708, 1)\n",
      "23/23 [==============================] - 0s 6ms/step\n",
      "23/23 [==============================] - 0s 6ms/step\n",
      "(708, 1)\n",
      "23/23 [==============================] - 0s 6ms/step\n",
      "23/23 [==============================] - 0s 6ms/step\n",
      "(708, 1)\n",
      "23/23 [==============================] - 0s 6ms/step\n",
      "23/23 [==============================] - 0s 6ms/step\n",
      "(708, 1)\n",
      "23/23 [==============================] - 0s 6ms/step\n",
      "23/23 [==============================] - 0s 6ms/step\n",
      "(708, 1)\n",
      "23/23 [==============================] - 0s 6ms/step\n"
     ]
    }
   ],
   "source": [
    "y_test_preds = np.empty((708, 0), int)\n",
    "for nn in multi_neural_net:\n",
    "    y_test_preds = np.concatenate((y_test_preds, nn.predict(X_test_scaled)), axis=1)"
   ]
  },
  {
   "cell_type": "code",
   "execution_count": 32,
   "id": "96c86c30",
   "metadata": {},
   "outputs": [
    {
     "data": {
      "text/plain": [
       "2.436504402808056"
      ]
     },
     "execution_count": 32,
     "metadata": {},
     "output_type": "execute_result"
    }
   ],
   "source": [
    "mae(Y_test, y_test_preds)"
   ]
  },
  {
   "cell_type": "code",
   "execution_count": null,
   "id": "41d28bba",
   "metadata": {},
   "outputs": [],
   "source": []
  }
 ],
 "metadata": {
  "kernelspec": {
   "display_name": "Python 3 (ipykernel)",
   "language": "python",
   "name": "python3"
  },
  "language_info": {
   "codemirror_mode": {
    "name": "ipython",
    "version": 3
   },
   "file_extension": ".py",
   "mimetype": "text/x-python",
   "name": "python",
   "nbconvert_exporter": "python",
   "pygments_lexer": "ipython3",
   "version": "3.9.15"
  }
 },
 "nbformat": 4,
 "nbformat_minor": 5
}
