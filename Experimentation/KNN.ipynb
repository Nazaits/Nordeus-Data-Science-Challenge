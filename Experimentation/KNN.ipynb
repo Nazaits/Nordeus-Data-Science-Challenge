{
 "cells": [
  {
   "cell_type": "markdown",
   "id": "9a5965b2",
   "metadata": {},
   "source": [
    "# Imports"
   ]
  },
  {
   "cell_type": "code",
   "execution_count": 2,
   "id": "f1d3c980",
   "metadata": {},
   "outputs": [],
   "source": [
    "import pandas as pd\n",
    "import numpy as np\n",
    "from sklearn.model_selection import train_test_split, cross_val_score, GridSearchCV\n",
    "from sklearn.preprocessing import StandardScaler\n",
    "from sklearn.neighbors import KNeighborsClassifier, KNeighborsRegressor\n",
    "from sklearn.metrics import mean_absolute_error as mae, accuracy_score, r2_score\n",
    "import matplotlib.pyplot as plt\n",
    "import seaborn as sns\n",
    "from preprocess import preprocess, process"
   ]
  },
  {
   "cell_type": "markdown",
   "id": "ca7b7af1",
   "metadata": {},
   "source": [
    "# Data"
   ]
  },
  {
   "cell_type": "code",
   "execution_count": 3,
   "id": "43d1ff2a",
   "metadata": {},
   "outputs": [],
   "source": [
    "data = pd.read_csv('jobfair_train.csv')"
   ]
  },
  {
   "cell_type": "code",
   "execution_count": 4,
   "id": "2ba6279f",
   "metadata": {},
   "outputs": [
    {
     "data": {
      "text/html": [
       "<div>\n",
       "<style scoped>\n",
       "    .dataframe tbody tr th:only-of-type {\n",
       "        vertical-align: middle;\n",
       "    }\n",
       "\n",
       "    .dataframe tbody tr th {\n",
       "        vertical-align: top;\n",
       "    }\n",
       "\n",
       "    .dataframe thead th {\n",
       "        text-align: right;\n",
       "    }\n",
       "</style>\n",
       "<table border=\"1\" class=\"dataframe\">\n",
       "  <thead>\n",
       "    <tr style=\"text-align: right;\">\n",
       "      <th></th>\n",
       "      <th>season</th>\n",
       "      <th>club_id</th>\n",
       "      <th>league_id</th>\n",
       "      <th>dynamic_payment_segment</th>\n",
       "      <th>cohort_season</th>\n",
       "      <th>avg_age_top_11_players</th>\n",
       "      <th>avg_stars_top_11_players</th>\n",
       "      <th>avg_stars_top_14_players</th>\n",
       "      <th>avg_training_factor_top_11_players</th>\n",
       "      <th>days_active_last_28_days</th>\n",
       "      <th>...</th>\n",
       "      <th>registration_country</th>\n",
       "      <th>registration_platform_specific</th>\n",
       "      <th>league_match_won_count_last_28_days</th>\n",
       "      <th>training_count_last_28_days</th>\n",
       "      <th>global_competition_level</th>\n",
       "      <th>tokens_spent_last_28_days</th>\n",
       "      <th>tokens_stash</th>\n",
       "      <th>rests_stash</th>\n",
       "      <th>morale_boosters_stash</th>\n",
       "      <th>league_rank</th>\n",
       "    </tr>\n",
       "  </thead>\n",
       "  <tbody>\n",
       "    <tr>\n",
       "      <th>0</th>\n",
       "      <td>173</td>\n",
       "      <td>6042825</td>\n",
       "      <td>2912348</td>\n",
       "      <td>2) Minnow</td>\n",
       "      <td>134</td>\n",
       "      <td>25</td>\n",
       "      <td>5.255151</td>\n",
       "      <td>4.483009</td>\n",
       "      <td>1.778801</td>\n",
       "      <td>25</td>\n",
       "      <td>...</td>\n",
       "      <td>Portugal</td>\n",
       "      <td>Flash FB Canvas</td>\n",
       "      <td>24</td>\n",
       "      <td>435</td>\n",
       "      <td>11.0</td>\n",
       "      <td>598</td>\n",
       "      <td>245</td>\n",
       "      <td>186</td>\n",
       "      <td>818</td>\n",
       "      <td>2</td>\n",
       "    </tr>\n",
       "    <tr>\n",
       "      <th>1</th>\n",
       "      <td>173</td>\n",
       "      <td>9620967</td>\n",
       "      <td>2912140</td>\n",
       "      <td>2) Minnow</td>\n",
       "      <td>28</td>\n",
       "      <td>23</td>\n",
       "      <td>4.962521</td>\n",
       "      <td>4.785648</td>\n",
       "      <td>-0.002687</td>\n",
       "      <td>28</td>\n",
       "      <td>...</td>\n",
       "      <td>Turkey</td>\n",
       "      <td>Android Phone</td>\n",
       "      <td>19</td>\n",
       "      <td>58</td>\n",
       "      <td>7.0</td>\n",
       "      <td>269</td>\n",
       "      <td>0</td>\n",
       "      <td>35</td>\n",
       "      <td>24</td>\n",
       "      <td>2</td>\n",
       "    </tr>\n",
       "    <tr>\n",
       "      <th>2</th>\n",
       "      <td>173</td>\n",
       "      <td>6045474</td>\n",
       "      <td>2912933</td>\n",
       "      <td>4) Whale</td>\n",
       "      <td>136</td>\n",
       "      <td>23</td>\n",
       "      <td>11.105782</td>\n",
       "      <td>10.511133</td>\n",
       "      <td>0.628794</td>\n",
       "      <td>28</td>\n",
       "      <td>...</td>\n",
       "      <td>Belgium</td>\n",
       "      <td>Flash FB Canvas</td>\n",
       "      <td>26</td>\n",
       "      <td>116</td>\n",
       "      <td>8.0</td>\n",
       "      <td>23180</td>\n",
       "      <td>369</td>\n",
       "      <td>444</td>\n",
       "      <td>4933</td>\n",
       "      <td>1</td>\n",
       "    </tr>\n",
       "    <tr>\n",
       "      <th>3</th>\n",
       "      <td>173</td>\n",
       "      <td>14187773</td>\n",
       "      <td>2910371</td>\n",
       "      <td>0) NonPayer</td>\n",
       "      <td>2</td>\n",
       "      <td>21</td>\n",
       "      <td>4.164848</td>\n",
       "      <td>4.023486</td>\n",
       "      <td>0.551904</td>\n",
       "      <td>12</td>\n",
       "      <td>...</td>\n",
       "      <td>Malaysia</td>\n",
       "      <td>Android Phone</td>\n",
       "      <td>11</td>\n",
       "      <td>22</td>\n",
       "      <td>2.0</td>\n",
       "      <td>41</td>\n",
       "      <td>43</td>\n",
       "      <td>213</td>\n",
       "      <td>126</td>\n",
       "      <td>6</td>\n",
       "    </tr>\n",
       "    <tr>\n",
       "      <th>4</th>\n",
       "      <td>173</td>\n",
       "      <td>13694853</td>\n",
       "      <td>2907632</td>\n",
       "      <td>0) NonPayer</td>\n",
       "      <td>5</td>\n",
       "      <td>22</td>\n",
       "      <td>3.031939</td>\n",
       "      <td>2.926029</td>\n",
       "      <td>0.690544</td>\n",
       "      <td>0</td>\n",
       "      <td>...</td>\n",
       "      <td>Italy</td>\n",
       "      <td>iOS Phone</td>\n",
       "      <td>9</td>\n",
       "      <td>0</td>\n",
       "      <td>4.0</td>\n",
       "      <td>0</td>\n",
       "      <td>16</td>\n",
       "      <td>100</td>\n",
       "      <td>147</td>\n",
       "      <td>10</td>\n",
       "    </tr>\n",
       "    <tr>\n",
       "      <th>...</th>\n",
       "      <td>...</td>\n",
       "      <td>...</td>\n",
       "      <td>...</td>\n",
       "      <td>...</td>\n",
       "      <td>...</td>\n",
       "      <td>...</td>\n",
       "      <td>...</td>\n",
       "      <td>...</td>\n",
       "      <td>...</td>\n",
       "      <td>...</td>\n",
       "      <td>...</td>\n",
       "      <td>...</td>\n",
       "      <td>...</td>\n",
       "      <td>...</td>\n",
       "      <td>...</td>\n",
       "      <td>...</td>\n",
       "      <td>...</td>\n",
       "      <td>...</td>\n",
       "      <td>...</td>\n",
       "      <td>...</td>\n",
       "      <td>...</td>\n",
       "    </tr>\n",
       "    <tr>\n",
       "      <th>55309</th>\n",
       "      <td>173</td>\n",
       "      <td>14278145</td>\n",
       "      <td>2906514</td>\n",
       "      <td>0) NonPayer</td>\n",
       "      <td>2</td>\n",
       "      <td>25</td>\n",
       "      <td>4.160909</td>\n",
       "      <td>3.948086</td>\n",
       "      <td>0.503241</td>\n",
       "      <td>11</td>\n",
       "      <td>...</td>\n",
       "      <td>Switzerland</td>\n",
       "      <td>iOS Phone</td>\n",
       "      <td>13</td>\n",
       "      <td>25</td>\n",
       "      <td>NaN</td>\n",
       "      <td>42</td>\n",
       "      <td>10</td>\n",
       "      <td>25</td>\n",
       "      <td>37</td>\n",
       "      <td>1</td>\n",
       "    </tr>\n",
       "    <tr>\n",
       "      <th>55310</th>\n",
       "      <td>173</td>\n",
       "      <td>14309556</td>\n",
       "      <td>2906913</td>\n",
       "      <td>2) Minnow</td>\n",
       "      <td>2</td>\n",
       "      <td>21</td>\n",
       "      <td>4.244145</td>\n",
       "      <td>3.762286</td>\n",
       "      <td>0.664514</td>\n",
       "      <td>28</td>\n",
       "      <td>...</td>\n",
       "      <td>France</td>\n",
       "      <td>iOS Phone</td>\n",
       "      <td>25</td>\n",
       "      <td>167</td>\n",
       "      <td>NaN</td>\n",
       "      <td>214</td>\n",
       "      <td>158</td>\n",
       "      <td>358</td>\n",
       "      <td>256</td>\n",
       "      <td>1</td>\n",
       "    </tr>\n",
       "    <tr>\n",
       "      <th>55311</th>\n",
       "      <td>173</td>\n",
       "      <td>14455654</td>\n",
       "      <td>2905985</td>\n",
       "      <td>0) NonPayer</td>\n",
       "      <td>1</td>\n",
       "      <td>21</td>\n",
       "      <td>4.000158</td>\n",
       "      <td>3.753276</td>\n",
       "      <td>0.507620</td>\n",
       "      <td>6</td>\n",
       "      <td>...</td>\n",
       "      <td>France</td>\n",
       "      <td>iOS Tablet</td>\n",
       "      <td>14</td>\n",
       "      <td>17</td>\n",
       "      <td>NaN</td>\n",
       "      <td>73</td>\n",
       "      <td>11</td>\n",
       "      <td>70</td>\n",
       "      <td>57</td>\n",
       "      <td>11</td>\n",
       "    </tr>\n",
       "    <tr>\n",
       "      <th>55312</th>\n",
       "      <td>173</td>\n",
       "      <td>13623733</td>\n",
       "      <td>2910437</td>\n",
       "      <td>0) NonPayer</td>\n",
       "      <td>5</td>\n",
       "      <td>24</td>\n",
       "      <td>4.582158</td>\n",
       "      <td>4.461391</td>\n",
       "      <td>0.664767</td>\n",
       "      <td>28</td>\n",
       "      <td>...</td>\n",
       "      <td>Morocco</td>\n",
       "      <td>Android Phone</td>\n",
       "      <td>22</td>\n",
       "      <td>80</td>\n",
       "      <td>4.0</td>\n",
       "      <td>90</td>\n",
       "      <td>65</td>\n",
       "      <td>109</td>\n",
       "      <td>150</td>\n",
       "      <td>5</td>\n",
       "    </tr>\n",
       "    <tr>\n",
       "      <th>55313</th>\n",
       "      <td>173</td>\n",
       "      <td>11719971</td>\n",
       "      <td>2910381</td>\n",
       "      <td>0) NonPayer</td>\n",
       "      <td>16</td>\n",
       "      <td>23</td>\n",
       "      <td>5.176582</td>\n",
       "      <td>4.762305</td>\n",
       "      <td>0.640298</td>\n",
       "      <td>1</td>\n",
       "      <td>...</td>\n",
       "      <td>Greece</td>\n",
       "      <td>Android Phone</td>\n",
       "      <td>6</td>\n",
       "      <td>2</td>\n",
       "      <td>6.0</td>\n",
       "      <td>50</td>\n",
       "      <td>24</td>\n",
       "      <td>17</td>\n",
       "      <td>354</td>\n",
       "      <td>9</td>\n",
       "    </tr>\n",
       "  </tbody>\n",
       "</table>\n",
       "<p>55314 rows × 23 columns</p>\n",
       "</div>"
      ],
      "text/plain": [
       "       season   club_id  league_id dynamic_payment_segment  cohort_season  \\\n",
       "0         173   6042825    2912348               2) Minnow            134   \n",
       "1         173   9620967    2912140               2) Minnow             28   \n",
       "2         173   6045474    2912933                4) Whale            136   \n",
       "3         173  14187773    2910371             0) NonPayer              2   \n",
       "4         173  13694853    2907632             0) NonPayer              5   \n",
       "...       ...       ...        ...                     ...            ...   \n",
       "55309     173  14278145    2906514             0) NonPayer              2   \n",
       "55310     173  14309556    2906913               2) Minnow              2   \n",
       "55311     173  14455654    2905985             0) NonPayer              1   \n",
       "55312     173  13623733    2910437             0) NonPayer              5   \n",
       "55313     173  11719971    2910381             0) NonPayer             16   \n",
       "\n",
       "       avg_age_top_11_players  avg_stars_top_11_players  \\\n",
       "0                          25                  5.255151   \n",
       "1                          23                  4.962521   \n",
       "2                          23                 11.105782   \n",
       "3                          21                  4.164848   \n",
       "4                          22                  3.031939   \n",
       "...                       ...                       ...   \n",
       "55309                      25                  4.160909   \n",
       "55310                      21                  4.244145   \n",
       "55311                      21                  4.000158   \n",
       "55312                      24                  4.582158   \n",
       "55313                      23                  5.176582   \n",
       "\n",
       "       avg_stars_top_14_players  avg_training_factor_top_11_players  \\\n",
       "0                      4.483009                            1.778801   \n",
       "1                      4.785648                           -0.002687   \n",
       "2                     10.511133                            0.628794   \n",
       "3                      4.023486                            0.551904   \n",
       "4                      2.926029                            0.690544   \n",
       "...                         ...                                 ...   \n",
       "55309                  3.948086                            0.503241   \n",
       "55310                  3.762286                            0.664514   \n",
       "55311                  3.753276                            0.507620   \n",
       "55312                  4.461391                            0.664767   \n",
       "55313                  4.762305                            0.640298   \n",
       "\n",
       "       days_active_last_28_days  ...  registration_country  \\\n",
       "0                            25  ...              Portugal   \n",
       "1                            28  ...                Turkey   \n",
       "2                            28  ...               Belgium   \n",
       "3                            12  ...              Malaysia   \n",
       "4                             0  ...                 Italy   \n",
       "...                         ...  ...                   ...   \n",
       "55309                        11  ...           Switzerland   \n",
       "55310                        28  ...                France   \n",
       "55311                         6  ...                France   \n",
       "55312                        28  ...               Morocco   \n",
       "55313                         1  ...                Greece   \n",
       "\n",
       "       registration_platform_specific  league_match_won_count_last_28_days  \\\n",
       "0                     Flash FB Canvas                                   24   \n",
       "1                       Android Phone                                   19   \n",
       "2                     Flash FB Canvas                                   26   \n",
       "3                       Android Phone                                   11   \n",
       "4                           iOS Phone                                    9   \n",
       "...                               ...                                  ...   \n",
       "55309                       iOS Phone                                   13   \n",
       "55310                       iOS Phone                                   25   \n",
       "55311                      iOS Tablet                                   14   \n",
       "55312                   Android Phone                                   22   \n",
       "55313                   Android Phone                                    6   \n",
       "\n",
       "      training_count_last_28_days global_competition_level  \\\n",
       "0                             435                     11.0   \n",
       "1                              58                      7.0   \n",
       "2                             116                      8.0   \n",
       "3                              22                      2.0   \n",
       "4                               0                      4.0   \n",
       "...                           ...                      ...   \n",
       "55309                          25                      NaN   \n",
       "55310                         167                      NaN   \n",
       "55311                          17                      NaN   \n",
       "55312                          80                      4.0   \n",
       "55313                           2                      6.0   \n",
       "\n",
       "       tokens_spent_last_28_days  tokens_stash  rests_stash  \\\n",
       "0                            598           245          186   \n",
       "1                            269             0           35   \n",
       "2                          23180           369          444   \n",
       "3                             41            43          213   \n",
       "4                              0            16          100   \n",
       "...                          ...           ...          ...   \n",
       "55309                         42            10           25   \n",
       "55310                        214           158          358   \n",
       "55311                         73            11           70   \n",
       "55312                         90            65          109   \n",
       "55313                         50            24           17   \n",
       "\n",
       "       morale_boosters_stash  league_rank  \n",
       "0                        818            2  \n",
       "1                         24            2  \n",
       "2                       4933            1  \n",
       "3                        126            6  \n",
       "4                        147           10  \n",
       "...                      ...          ...  \n",
       "55309                     37            1  \n",
       "55310                    256            1  \n",
       "55311                     57           11  \n",
       "55312                    150            5  \n",
       "55313                    354            9  \n",
       "\n",
       "[55314 rows x 23 columns]"
      ]
     },
     "execution_count": 4,
     "metadata": {},
     "output_type": "execute_result"
    }
   ],
   "source": [
    "data"
   ]
  },
  {
   "cell_type": "markdown",
   "id": "d212aed8",
   "metadata": {},
   "source": [
    "# Data split"
   ]
  },
  {
   "cell_type": "code",
   "execution_count": 6,
   "id": "66118af4",
   "metadata": {},
   "outputs": [],
   "source": [
    "X = data.drop('league_rank', axis=1)\n",
    "y = data['league_rank']-1"
   ]
  },
  {
   "cell_type": "code",
   "execution_count": 7,
   "id": "86349da1",
   "metadata": {},
   "outputs": [],
   "source": [
    "X_train, X_test, y_train, y_test = train_test_split(X, y, test_size=0.15, random_state=42)"
   ]
  },
  {
   "cell_type": "code",
   "execution_count": 8,
   "id": "0181f5b1",
   "metadata": {},
   "outputs": [],
   "source": [
    "standard_scaler = StandardScaler()"
   ]
  },
  {
   "cell_type": "code",
   "execution_count": 9,
   "id": "4d73d9da",
   "metadata": {},
   "outputs": [],
   "source": [
    "X_train = standard_scaler.fit_transform(preprocess(X_train, y_train))"
   ]
  },
  {
   "cell_type": "code",
   "execution_count": 10,
   "id": "e7807ddd",
   "metadata": {},
   "outputs": [],
   "source": [
    "X_test = standard_scaler.transform(process(X_test))"
   ]
  },
  {
   "cell_type": "markdown",
   "id": "d1bf04b3",
   "metadata": {},
   "source": [
    "# Model testing"
   ]
  },
  {
   "cell_type": "code",
   "execution_count": 35,
   "id": "c7daf0d5",
   "metadata": {},
   "outputs": [],
   "source": [
    "params = {'n_neighbors': [1, 5, 9, 15, 23, 57, 117, 235], 'weights': ['uniform', 'distance']}"
   ]
  },
  {
   "cell_type": "markdown",
   "id": "fde2c6e3",
   "metadata": {},
   "source": [
    "### Regression"
   ]
  },
  {
   "cell_type": "code",
   "execution_count": 36,
   "id": "059f73c9",
   "metadata": {},
   "outputs": [],
   "source": [
    "regresssion_gs = GridSearchCV(KNeighborsRegressor(n_jobs=4), params,\n",
    "                              scoring='neg_mean_absolute_error', n_jobs=4)"
   ]
  },
  {
   "cell_type": "code",
   "execution_count": 37,
   "id": "746c17ce",
   "metadata": {},
   "outputs": [
    {
     "data": {
      "text/html": [
       "<style>#sk-container-id-3 {color: black;}#sk-container-id-3 pre{padding: 0;}#sk-container-id-3 div.sk-toggleable {background-color: white;}#sk-container-id-3 label.sk-toggleable__label {cursor: pointer;display: block;width: 100%;margin-bottom: 0;padding: 0.3em;box-sizing: border-box;text-align: center;}#sk-container-id-3 label.sk-toggleable__label-arrow:before {content: \"▸\";float: left;margin-right: 0.25em;color: #696969;}#sk-container-id-3 label.sk-toggleable__label-arrow:hover:before {color: black;}#sk-container-id-3 div.sk-estimator:hover label.sk-toggleable__label-arrow:before {color: black;}#sk-container-id-3 div.sk-toggleable__content {max-height: 0;max-width: 0;overflow: hidden;text-align: left;background-color: #f0f8ff;}#sk-container-id-3 div.sk-toggleable__content pre {margin: 0.2em;color: black;border-radius: 0.25em;background-color: #f0f8ff;}#sk-container-id-3 input.sk-toggleable__control:checked~div.sk-toggleable__content {max-height: 200px;max-width: 100%;overflow: auto;}#sk-container-id-3 input.sk-toggleable__control:checked~label.sk-toggleable__label-arrow:before {content: \"▾\";}#sk-container-id-3 div.sk-estimator input.sk-toggleable__control:checked~label.sk-toggleable__label {background-color: #d4ebff;}#sk-container-id-3 div.sk-label input.sk-toggleable__control:checked~label.sk-toggleable__label {background-color: #d4ebff;}#sk-container-id-3 input.sk-hidden--visually {border: 0;clip: rect(1px 1px 1px 1px);clip: rect(1px, 1px, 1px, 1px);height: 1px;margin: -1px;overflow: hidden;padding: 0;position: absolute;width: 1px;}#sk-container-id-3 div.sk-estimator {font-family: monospace;background-color: #f0f8ff;border: 1px dotted black;border-radius: 0.25em;box-sizing: border-box;margin-bottom: 0.5em;}#sk-container-id-3 div.sk-estimator:hover {background-color: #d4ebff;}#sk-container-id-3 div.sk-parallel-item::after {content: \"\";width: 100%;border-bottom: 1px solid gray;flex-grow: 1;}#sk-container-id-3 div.sk-label:hover label.sk-toggleable__label {background-color: #d4ebff;}#sk-container-id-3 div.sk-serial::before {content: \"\";position: absolute;border-left: 1px solid gray;box-sizing: border-box;top: 0;bottom: 0;left: 50%;z-index: 0;}#sk-container-id-3 div.sk-serial {display: flex;flex-direction: column;align-items: center;background-color: white;padding-right: 0.2em;padding-left: 0.2em;position: relative;}#sk-container-id-3 div.sk-item {position: relative;z-index: 1;}#sk-container-id-3 div.sk-parallel {display: flex;align-items: stretch;justify-content: center;background-color: white;position: relative;}#sk-container-id-3 div.sk-item::before, #sk-container-id-3 div.sk-parallel-item::before {content: \"\";position: absolute;border-left: 1px solid gray;box-sizing: border-box;top: 0;bottom: 0;left: 50%;z-index: -1;}#sk-container-id-3 div.sk-parallel-item {display: flex;flex-direction: column;z-index: 1;position: relative;background-color: white;}#sk-container-id-3 div.sk-parallel-item:first-child::after {align-self: flex-end;width: 50%;}#sk-container-id-3 div.sk-parallel-item:last-child::after {align-self: flex-start;width: 50%;}#sk-container-id-3 div.sk-parallel-item:only-child::after {width: 0;}#sk-container-id-3 div.sk-dashed-wrapped {border: 1px dashed gray;margin: 0 0.4em 0.5em 0.4em;box-sizing: border-box;padding-bottom: 0.4em;background-color: white;}#sk-container-id-3 div.sk-label label {font-family: monospace;font-weight: bold;display: inline-block;line-height: 1.2em;}#sk-container-id-3 div.sk-label-container {text-align: center;}#sk-container-id-3 div.sk-container {/* jupyter's `normalize.less` sets `[hidden] { display: none; }` but bootstrap.min.css set `[hidden] { display: none !important; }` so we also need the `!important` here to be able to override the default hidden behavior on the sphinx rendered scikit-learn.org. See: https://github.com/scikit-learn/scikit-learn/issues/21755 */display: inline-block !important;position: relative;}#sk-container-id-3 div.sk-text-repr-fallback {display: none;}</style><div id=\"sk-container-id-3\" class=\"sk-top-container\"><div class=\"sk-text-repr-fallback\"><pre>GridSearchCV(estimator=KNeighborsRegressor(n_jobs=4), n_jobs=4,\n",
       "             param_grid={&#x27;n_neighbors&#x27;: [1, 5, 9, 15, 23, 57, 117, 235],\n",
       "                         &#x27;weights&#x27;: [&#x27;uniform&#x27;, &#x27;distance&#x27;]},\n",
       "             scoring=&#x27;neg_mean_absolute_error&#x27;)</pre><b>In a Jupyter environment, please rerun this cell to show the HTML representation or trust the notebook. <br />On GitHub, the HTML representation is unable to render, please try loading this page with nbviewer.org.</b></div><div class=\"sk-container\" hidden><div class=\"sk-item sk-dashed-wrapped\"><div class=\"sk-label-container\"><div class=\"sk-label sk-toggleable\"><input class=\"sk-toggleable__control sk-hidden--visually\" id=\"sk-estimator-id-7\" type=\"checkbox\" ><label for=\"sk-estimator-id-7\" class=\"sk-toggleable__label sk-toggleable__label-arrow\">GridSearchCV</label><div class=\"sk-toggleable__content\"><pre>GridSearchCV(estimator=KNeighborsRegressor(n_jobs=4), n_jobs=4,\n",
       "             param_grid={&#x27;n_neighbors&#x27;: [1, 5, 9, 15, 23, 57, 117, 235],\n",
       "                         &#x27;weights&#x27;: [&#x27;uniform&#x27;, &#x27;distance&#x27;]},\n",
       "             scoring=&#x27;neg_mean_absolute_error&#x27;)</pre></div></div></div><div class=\"sk-parallel\"><div class=\"sk-parallel-item\"><div class=\"sk-item\"><div class=\"sk-label-container\"><div class=\"sk-label sk-toggleable\"><input class=\"sk-toggleable__control sk-hidden--visually\" id=\"sk-estimator-id-8\" type=\"checkbox\" ><label for=\"sk-estimator-id-8\" class=\"sk-toggleable__label sk-toggleable__label-arrow\">estimator: KNeighborsRegressor</label><div class=\"sk-toggleable__content\"><pre>KNeighborsRegressor(n_jobs=4)</pre></div></div></div><div class=\"sk-serial\"><div class=\"sk-item\"><div class=\"sk-estimator sk-toggleable\"><input class=\"sk-toggleable__control sk-hidden--visually\" id=\"sk-estimator-id-9\" type=\"checkbox\" ><label for=\"sk-estimator-id-9\" class=\"sk-toggleable__label sk-toggleable__label-arrow\">KNeighborsRegressor</label><div class=\"sk-toggleable__content\"><pre>KNeighborsRegressor(n_jobs=4)</pre></div></div></div></div></div></div></div></div></div></div>"
      ],
      "text/plain": [
       "GridSearchCV(estimator=KNeighborsRegressor(n_jobs=4), n_jobs=4,\n",
       "             param_grid={'n_neighbors': [1, 5, 9, 15, 23, 57, 117, 235],\n",
       "                         'weights': ['uniform', 'distance']},\n",
       "             scoring='neg_mean_absolute_error')"
      ]
     },
     "execution_count": 37,
     "metadata": {},
     "output_type": "execute_result"
    }
   ],
   "source": [
    "regresssion_gs.fit(X_train, y_train)"
   ]
  },
  {
   "cell_type": "code",
   "execution_count": 38,
   "id": "d5a62ca3",
   "metadata": {},
   "outputs": [
    {
     "name": "stdout",
     "output_type": "stream",
     "text": [
      "{'n_neighbors': 23, 'weights': 'distance'}\n"
     ]
    },
    {
     "data": {
      "text/plain": [
       "array([-3.15856288, -3.15856288, -2.56034538, -2.55854638, -2.4980574 ,\n",
       "       -2.49387466, -2.47092046, -2.46615802, -2.46591983, -2.45971835,\n",
       "       -2.48326005, -2.47494578, -2.51510809, -2.50473728, -2.56460764,\n",
       "       -2.5503151 ])"
      ]
     },
     "execution_count": 38,
     "metadata": {},
     "output_type": "execute_result"
    }
   ],
   "source": [
    "print(regresssion_gs.best_params_)\n",
    "regresssion_gs.cv_results_['mean_test_score']"
   ]
  },
  {
   "cell_type": "code",
   "execution_count": 39,
   "id": "fc5b6f03",
   "metadata": {},
   "outputs": [],
   "source": [
    "reg_model = regresssion_gs.best_estimator_"
   ]
  },
  {
   "cell_type": "code",
   "execution_count": 40,
   "id": "cfca6714",
   "metadata": {},
   "outputs": [
    {
     "data": {
      "text/plain": [
       "2.4748666196685205"
      ]
     },
     "execution_count": 40,
     "metadata": {},
     "output_type": "execute_result"
    }
   ],
   "source": [
    "mae(y_test, reg_model.predict(X_test))"
   ]
  },
  {
   "cell_type": "markdown",
   "id": "9f22865f",
   "metadata": {},
   "source": [
    "### Classification"
   ]
  },
  {
   "cell_type": "code",
   "execution_count": 41,
   "id": "9cc784a7",
   "metadata": {},
   "outputs": [],
   "source": [
    "classification_gs = GridSearchCV(KNeighborsClassifier(n_jobs=4), params,\n",
    "                              scoring='neg_mean_absolute_error', n_jobs=4)"
   ]
  },
  {
   "cell_type": "code",
   "execution_count": 42,
   "id": "80024ad8",
   "metadata": {},
   "outputs": [
    {
     "data": {
      "text/html": [
       "<style>#sk-container-id-4 {color: black;}#sk-container-id-4 pre{padding: 0;}#sk-container-id-4 div.sk-toggleable {background-color: white;}#sk-container-id-4 label.sk-toggleable__label {cursor: pointer;display: block;width: 100%;margin-bottom: 0;padding: 0.3em;box-sizing: border-box;text-align: center;}#sk-container-id-4 label.sk-toggleable__label-arrow:before {content: \"▸\";float: left;margin-right: 0.25em;color: #696969;}#sk-container-id-4 label.sk-toggleable__label-arrow:hover:before {color: black;}#sk-container-id-4 div.sk-estimator:hover label.sk-toggleable__label-arrow:before {color: black;}#sk-container-id-4 div.sk-toggleable__content {max-height: 0;max-width: 0;overflow: hidden;text-align: left;background-color: #f0f8ff;}#sk-container-id-4 div.sk-toggleable__content pre {margin: 0.2em;color: black;border-radius: 0.25em;background-color: #f0f8ff;}#sk-container-id-4 input.sk-toggleable__control:checked~div.sk-toggleable__content {max-height: 200px;max-width: 100%;overflow: auto;}#sk-container-id-4 input.sk-toggleable__control:checked~label.sk-toggleable__label-arrow:before {content: \"▾\";}#sk-container-id-4 div.sk-estimator input.sk-toggleable__control:checked~label.sk-toggleable__label {background-color: #d4ebff;}#sk-container-id-4 div.sk-label input.sk-toggleable__control:checked~label.sk-toggleable__label {background-color: #d4ebff;}#sk-container-id-4 input.sk-hidden--visually {border: 0;clip: rect(1px 1px 1px 1px);clip: rect(1px, 1px, 1px, 1px);height: 1px;margin: -1px;overflow: hidden;padding: 0;position: absolute;width: 1px;}#sk-container-id-4 div.sk-estimator {font-family: monospace;background-color: #f0f8ff;border: 1px dotted black;border-radius: 0.25em;box-sizing: border-box;margin-bottom: 0.5em;}#sk-container-id-4 div.sk-estimator:hover {background-color: #d4ebff;}#sk-container-id-4 div.sk-parallel-item::after {content: \"\";width: 100%;border-bottom: 1px solid gray;flex-grow: 1;}#sk-container-id-4 div.sk-label:hover label.sk-toggleable__label {background-color: #d4ebff;}#sk-container-id-4 div.sk-serial::before {content: \"\";position: absolute;border-left: 1px solid gray;box-sizing: border-box;top: 0;bottom: 0;left: 50%;z-index: 0;}#sk-container-id-4 div.sk-serial {display: flex;flex-direction: column;align-items: center;background-color: white;padding-right: 0.2em;padding-left: 0.2em;position: relative;}#sk-container-id-4 div.sk-item {position: relative;z-index: 1;}#sk-container-id-4 div.sk-parallel {display: flex;align-items: stretch;justify-content: center;background-color: white;position: relative;}#sk-container-id-4 div.sk-item::before, #sk-container-id-4 div.sk-parallel-item::before {content: \"\";position: absolute;border-left: 1px solid gray;box-sizing: border-box;top: 0;bottom: 0;left: 50%;z-index: -1;}#sk-container-id-4 div.sk-parallel-item {display: flex;flex-direction: column;z-index: 1;position: relative;background-color: white;}#sk-container-id-4 div.sk-parallel-item:first-child::after {align-self: flex-end;width: 50%;}#sk-container-id-4 div.sk-parallel-item:last-child::after {align-self: flex-start;width: 50%;}#sk-container-id-4 div.sk-parallel-item:only-child::after {width: 0;}#sk-container-id-4 div.sk-dashed-wrapped {border: 1px dashed gray;margin: 0 0.4em 0.5em 0.4em;box-sizing: border-box;padding-bottom: 0.4em;background-color: white;}#sk-container-id-4 div.sk-label label {font-family: monospace;font-weight: bold;display: inline-block;line-height: 1.2em;}#sk-container-id-4 div.sk-label-container {text-align: center;}#sk-container-id-4 div.sk-container {/* jupyter's `normalize.less` sets `[hidden] { display: none; }` but bootstrap.min.css set `[hidden] { display: none !important; }` so we also need the `!important` here to be able to override the default hidden behavior on the sphinx rendered scikit-learn.org. See: https://github.com/scikit-learn/scikit-learn/issues/21755 */display: inline-block !important;position: relative;}#sk-container-id-4 div.sk-text-repr-fallback {display: none;}</style><div id=\"sk-container-id-4\" class=\"sk-top-container\"><div class=\"sk-text-repr-fallback\"><pre>GridSearchCV(estimator=KNeighborsClassifier(n_jobs=4), n_jobs=4,\n",
       "             param_grid={&#x27;n_neighbors&#x27;: [1, 5, 9, 15, 23, 57, 117, 235],\n",
       "                         &#x27;weights&#x27;: [&#x27;uniform&#x27;, &#x27;distance&#x27;]},\n",
       "             scoring=&#x27;neg_mean_absolute_error&#x27;)</pre><b>In a Jupyter environment, please rerun this cell to show the HTML representation or trust the notebook. <br />On GitHub, the HTML representation is unable to render, please try loading this page with nbviewer.org.</b></div><div class=\"sk-container\" hidden><div class=\"sk-item sk-dashed-wrapped\"><div class=\"sk-label-container\"><div class=\"sk-label sk-toggleable\"><input class=\"sk-toggleable__control sk-hidden--visually\" id=\"sk-estimator-id-10\" type=\"checkbox\" ><label for=\"sk-estimator-id-10\" class=\"sk-toggleable__label sk-toggleable__label-arrow\">GridSearchCV</label><div class=\"sk-toggleable__content\"><pre>GridSearchCV(estimator=KNeighborsClassifier(n_jobs=4), n_jobs=4,\n",
       "             param_grid={&#x27;n_neighbors&#x27;: [1, 5, 9, 15, 23, 57, 117, 235],\n",
       "                         &#x27;weights&#x27;: [&#x27;uniform&#x27;, &#x27;distance&#x27;]},\n",
       "             scoring=&#x27;neg_mean_absolute_error&#x27;)</pre></div></div></div><div class=\"sk-parallel\"><div class=\"sk-parallel-item\"><div class=\"sk-item\"><div class=\"sk-label-container\"><div class=\"sk-label sk-toggleable\"><input class=\"sk-toggleable__control sk-hidden--visually\" id=\"sk-estimator-id-11\" type=\"checkbox\" ><label for=\"sk-estimator-id-11\" class=\"sk-toggleable__label sk-toggleable__label-arrow\">estimator: KNeighborsClassifier</label><div class=\"sk-toggleable__content\"><pre>KNeighborsClassifier(n_jobs=4)</pre></div></div></div><div class=\"sk-serial\"><div class=\"sk-item\"><div class=\"sk-estimator sk-toggleable\"><input class=\"sk-toggleable__control sk-hidden--visually\" id=\"sk-estimator-id-12\" type=\"checkbox\" ><label for=\"sk-estimator-id-12\" class=\"sk-toggleable__label sk-toggleable__label-arrow\">KNeighborsClassifier</label><div class=\"sk-toggleable__content\"><pre>KNeighborsClassifier(n_jobs=4)</pre></div></div></div></div></div></div></div></div></div></div>"
      ],
      "text/plain": [
       "GridSearchCV(estimator=KNeighborsClassifier(n_jobs=4), n_jobs=4,\n",
       "             param_grid={'n_neighbors': [1, 5, 9, 15, 23, 57, 117, 235],\n",
       "                         'weights': ['uniform', 'distance']},\n",
       "             scoring='neg_mean_absolute_error')"
      ]
     },
     "execution_count": 42,
     "metadata": {},
     "output_type": "execute_result"
    }
   ],
   "source": [
    "classification_gs.fit(X_train, y_train)"
   ]
  },
  {
   "cell_type": "code",
   "execution_count": 43,
   "id": "b6923514",
   "metadata": {},
   "outputs": [
    {
     "name": "stdout",
     "output_type": "stream",
     "text": [
      "{'n_neighbors': 57, 'weights': 'distance'} -2.847583305200522\n"
     ]
    },
    {
     "data": {
      "text/plain": [
       "array([-3.16156173, -3.16156173, -3.32216722, -3.029947  , -3.02392766,\n",
       "       -2.94678397, -2.96643636, -2.90277703, -2.92011198, -2.88605961,\n",
       "       -2.86576862, -2.84758331, -2.87261809, -2.86228089, -2.92219648,\n",
       "       -2.90530871])"
      ]
     },
     "execution_count": 43,
     "metadata": {},
     "output_type": "execute_result"
    }
   ],
   "source": [
    "print(classification_gs.best_params_, classification_gs.best_score_)\n",
    "classification_gs.cv_results_['mean_test_score']"
   ]
  },
  {
   "cell_type": "code",
   "execution_count": 44,
   "id": "63a720ac",
   "metadata": {},
   "outputs": [],
   "source": [
    "clf_model = classification_gs.best_estimator_"
   ]
  },
  {
   "cell_type": "code",
   "execution_count": 45,
   "id": "a0f78b5f",
   "metadata": {},
   "outputs": [
    {
     "data": {
      "text/plain": [
       "2.8477946493130877"
      ]
     },
     "execution_count": 45,
     "metadata": {},
     "output_type": "execute_result"
    }
   ],
   "source": [
    "mae(y_test, clf_model.predict(X_test))"
   ]
  },
  {
   "cell_type": "code",
   "execution_count": 46,
   "id": "5f8d581f",
   "metadata": {},
   "outputs": [
    {
     "data": {
      "text/plain": [
       "0.14943359845745963"
      ]
     },
     "execution_count": 46,
     "metadata": {},
     "output_type": "execute_result"
    }
   ],
   "source": [
    "clf_model.score(X_test, y_test)"
   ]
  },
  {
   "cell_type": "code",
   "execution_count": null,
   "id": "b6443c3f",
   "metadata": {},
   "outputs": [],
   "source": []
  }
 ],
 "metadata": {
  "kernelspec": {
   "display_name": "Python 3 (ipykernel)",
   "language": "python",
   "name": "python3"
  },
  "language_info": {
   "codemirror_mode": {
    "name": "ipython",
    "version": 3
   },
   "file_extension": ".py",
   "mimetype": "text/x-python",
   "name": "python",
   "nbconvert_exporter": "python",
   "pygments_lexer": "ipython3",
   "version": "3.9.15"
  }
 },
 "nbformat": 4,
 "nbformat_minor": 5
}
